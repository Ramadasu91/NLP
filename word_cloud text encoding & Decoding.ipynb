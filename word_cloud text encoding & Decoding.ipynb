{
 "cells": [
  {
   "cell_type": "markdown",
   "id": "06688f61",
   "metadata": {},
   "source": [
    "### Encoding & Decoding after removing stopwords and unknown characters"
   ]
  },
  {
   "cell_type": "code",
   "execution_count": 6,
   "id": "56fa3f23",
   "metadata": {},
   "outputs": [],
   "source": [
    "from nltk.tokenize import word_tokenize,sent_tokenize\n",
    "from nltk.corpus import stopwords\n",
    "\n",
    "corpus='''India, officially the Republic of India (Hindi: Bhārat Gaṇarājya),[25] is a country in South Asia. It is the seventh-largest country by area, the second-most populous country, and the most populous democracy in the world. Bounded by the Indian Ocean on the south, the Arabian Sea on the southwest, and the Bay of Bengal on the southeast, it shares land borders with Pakistan to the west;[f] China, Nepal, and Bhutan to the north; and Bangladesh and Myanmar to the east. In the Indian Ocean, India is in the vicinity of Sri Lanka and the Maldives; its Andaman and Nicobar Islands share a maritime border with Thailand, Myanmar, and Indonesia.'''\n",
    "\n",
    "corpus = corpus.replace(\"[25]\" , \"\")    \n",
    "corpus = corpus.replace(\"[f]\" , \"\")   \n",
    "corpus = corpus.replace(\")\" , \"\")"
   ]
  },
  {
   "cell_type": "code",
   "execution_count": 2,
   "id": "5026b761",
   "metadata": {},
   "outputs": [],
   "source": [
    "words=[]\n",
    "for word in word_tokenize(corpus):\n",
    "    if (word.lower() not in stopwords.words('english')) and (len(word)>=2):\n",
    "        words.append(word.lower())\n",
    "\n",
    "vocab=list(set(words))\n",
    "len(vocab)\n",
    "\n",
    "num=1\n",
    "word_to_num={}\n",
    "num_to_word={}\n",
    "for word in vocab:\n",
    "    word_to_num[word]=num\n",
    "    num_to_word[num]=word\n",
    "    num+=1\n"
   ]
  },
  {
   "cell_type": "code",
   "execution_count": 8,
   "id": "917aec15",
   "metadata": {},
   "outputs": [
    {
     "name": "stdout",
     "output_type": "stream",
     "text": [
      "[20, 45, 11, 20, 32, 44, 42, 41, 48, 25]\n",
      "\n",
      "[19, 41, 15, 8, 26, 41, 26, 17, 47]\n",
      "\n",
      "[4, 16, 12, 48, 27, 21, 43, 36, 46, 28, 33, 1, 37, 2, 22, 29, 39, 18, 34, 7, 3, 24]\n",
      "\n",
      "[16, 12, 20, 5, 13, 14, 6, 30, 9, 35, 10, 40, 31, 23, 3, 38]\n",
      "\n"
     ]
    }
   ],
   "source": [
    "data=[]\n",
    "for sent in sent_tokenize(corpus):\n",
    "    temp=[]\n",
    "    for word in word_tokenize(sent):\n",
    "        if (word.lower() not in stopwords.words('english')) and (len(word)>=2):\n",
    "            temp.append(word_to_num[word.lower()])\n",
    "    print(temp)\n",
    "    data.append(temp)\n",
    "    print()"
   ]
  },
  {
   "cell_type": "code",
   "execution_count": 11,
   "id": "e494452f",
   "metadata": {},
   "outputs": [
    {
     "name": "stdout",
     "output_type": "stream",
     "text": [
      "india officially republic india hindi bhārat gaṇarājya country south asia \n",
      "seventh-largest country area second-most populous country populous democracy world \n",
      "bounded indian ocean south arabian sea southwest bay bengal southeast shares land borders pakistan west china nepal bhutan north bangladesh myanmar east \n",
      "indian ocean india vicinity sri lanka maldives andaman nicobar islands share maritime border thailand myanmar indonesia \n"
     ]
    }
   ],
   "source": [
    "for sent in data:\n",
    "    for word in sent:\n",
    "        print(num_to_word[word],end=' ')\n",
    "    print( )"
   ]
  },
  {
   "cell_type": "markdown",
   "id": "f23648f1",
   "metadata": {},
   "source": [
    "### Encoding and Decoding without removal of stopwords"
   ]
  },
  {
   "cell_type": "code",
   "execution_count": 12,
   "id": "bac21d80",
   "metadata": {},
   "outputs": [],
   "source": [
    "from nltk.tokenize import word_tokenize,sent_tokenize\n",
    "from nltk.corpus import stopwords\n",
    "\n",
    "corpus='''India, officially the Republic of India (Hindi: Bhārat Gaṇarājya),[25] is a country in South Asia. It is the seventh-largest country by area, the second-most populous country, and the most populous democracy in the world. Bounded by the Indian Ocean on the south, the Arabian Sea on the southwest, and the Bay of Bengal on the southeast, it shares land borders with Pakistan to the west;[f] China, Nepal, and Bhutan to the north; and Bangladesh and Myanmar to the east. In the Indian Ocean, India is in the vicinity of Sri Lanka and the Maldives; its Andaman and Nicobar Islands share a maritime border with Thailand, Myanmar, and Indonesia.'''\n",
    "\n",
    "corpus = corpus.replace(\"[25]\" , \"\")    \n",
    "corpus = corpus.replace(\"[f]\" , \"\")   \n",
    "corpus = corpus.replace(\")\" , \"\")"
   ]
  },
  {
   "cell_type": "code",
   "execution_count": 16,
   "id": "bfdca352",
   "metadata": {},
   "outputs": [],
   "source": [
    "words=[]\n",
    "for word in word_tokenize(corpus):\n",
    "    if (len(word)==1):\n",
    "        if ((ord(word)>=65) & ord(word)<=90) or (ord(word>=97) & ord(word)<=122):\n",
    "            words.append(word.lower())\n",
    "    else:\n",
    "        words.append(word.lower())\n",
    "\n",
    "vocab=list(set(words))\n",
    "len(vocab)\n",
    "\n",
    "num=1\n",
    "word_to_num={}\n",
    "num_to_word={}\n",
    "for word in vocab:\n",
    "    word_to_num[word]=num\n",
    "    num_to_word[num]=word\n",
    "    num+=1\n"
   ]
  },
  {
   "cell_type": "code",
   "execution_count": 17,
   "id": "c38b6b39",
   "metadata": {},
   "outputs": [
    {
     "name": "stdout",
     "output_type": "stream",
     "text": [
      "['india', ',', 'officially', 'the', 'republic', 'of', 'india', '(', 'hindi', ':', 'bhārat', 'gaṇarājya', ',', 'is', 'a', 'country', 'in', 'south', 'asia', '.']\n",
      "\n",
      "['it', 'is', 'the', 'seventh-largest', 'country', 'by', 'area', ',', 'the', 'second-most', 'populous', 'country', ',', 'and', 'the', 'most', 'populous', 'democracy', 'in', 'the', 'world', '.']\n",
      "\n",
      "['bounded', 'by', 'the', 'indian', 'ocean', 'on', 'the', 'south', ',', 'the', 'arabian', 'sea', 'on', 'the', 'southwest', ',', 'and', 'the', 'bay', 'of', 'bengal', 'on', 'the', 'southeast', ',', 'it', 'shares', 'land', 'borders', 'with', 'pakistan', 'to', 'the', 'west', ';', 'china', ',', 'nepal', ',', 'and', 'bhutan', 'to', 'the', 'north', ';', 'and', 'bangladesh', 'and', 'myanmar', 'to', 'the', 'east', '.']\n",
      "\n",
      "['in', 'the', 'indian', 'ocean', ',', 'india', 'is', 'in', 'the', 'vicinity', 'of', 'sri', 'lanka', 'and', 'the', 'maldives', ';', 'its', 'andaman', 'and', 'nicobar', 'islands', 'share', 'a', 'maritime', 'border', 'with', 'thailand', ',', 'myanmar', ',', 'and', 'indonesia', '.']\n",
      "\n"
     ]
    }
   ],
   "source": [
    "data=[]\n",
    "for sent in sent_tokenize(corpus):\n",
    "    temp=[]\n",
    "    for word in word_tokenize(sent):\n",
    "        if (len(word)==1):\n",
    "            if ((ord(word)>=65) & ord(word)<=90) or (ord(word>=97) & ord(word)<=122):\n",
    "                temp.append(word.lower())\n",
    "        else:\n",
    "            temp.append(word.lower())\n",
    "    print(temp)\n",
    "    data.append(temp)\n",
    "    print()"
   ]
  },
  {
   "cell_type": "code",
   "execution_count": null,
   "id": "45fd4387",
   "metadata": {},
   "outputs": [],
   "source": []
  }
 ],
 "metadata": {
  "kernelspec": {
   "display_name": "Python 3 (ipykernel)",
   "language": "python",
   "name": "python3"
  },
  "language_info": {
   "codemirror_mode": {
    "name": "ipython",
    "version": 3
   },
   "file_extension": ".py",
   "mimetype": "text/x-python",
   "name": "python",
   "nbconvert_exporter": "python",
   "pygments_lexer": "ipython3",
   "version": "3.11.5"
  }
 },
 "nbformat": 4,
 "nbformat_minor": 5
}
