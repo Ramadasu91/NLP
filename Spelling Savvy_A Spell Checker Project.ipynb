{
 "cells": [
  {
   "cell_type": "code",
   "execution_count": 1,
   "id": "41ad6610",
   "metadata": {},
   "outputs": [],
   "source": [
    "import re\n",
    "import pandas as pd\n",
    "from tqdm import tqdm"
   ]
  },
  {
   "cell_type": "markdown",
   "id": "3e0ec9b7",
   "metadata": {},
   "source": [
    "### 1.Finding Unique words"
   ]
  },
  {
   "cell_type": "code",
   "execution_count": 4,
   "id": "7208307d",
   "metadata": {},
   "outputs": [
    {
     "name": "stdout",
     "output_type": "stream",
     "text": [
      "1115585\n",
      "32198\n"
     ]
    }
   ],
   "source": [
    "with open('big.txt','r') as fd:\n",
    "    lines=fd.readlines()\n",
    "    words=[]\n",
    "    for line in lines:\n",
    "        words+=re.findall('\\w+',line.lower())\n",
    "print(len(words))\n",
    "vocab=list(set(words))\n",
    "print(len(vocab))"
   ]
  },
  {
   "cell_type": "markdown",
   "id": "dac444ff",
   "metadata": {},
   "source": [
    "### 2.Finding Probability Distribution"
   ]
  },
  {
   "cell_type": "code",
   "execution_count": 3,
   "id": "9561c6cd",
   "metadata": {},
   "outputs": [
    {
     "name": "stderr",
     "output_type": "stream",
     "text": [
      "100%|██████████| 32198/32198 [19:00<00:00, 28.23it/s]   \n"
     ]
    }
   ],
   "source": [
    "word_prob={}\n",
    "for wrd in tqdm(vocab):\n",
    "    word_prob[wrd]=float(words.count(wrd)/len(words))"
   ]
  },
  {
   "cell_type": "markdown",
   "id": "5a3fb19a",
   "metadata": {},
   "source": [
    "### 3.Splitting and applying operations"
   ]
  },
  {
   "cell_type": "markdown",
   "id": "66a008ed",
   "metadata": {},
   "source": [
    "### 3.1 Splitting"
   ]
  },
  {
   "cell_type": "code",
   "execution_count": 13,
   "id": "036c79f7",
   "metadata": {},
   "outputs": [],
   "source": [
    "def split(word):\n",
    "    parts=[]\n",
    "    for i in range(len(word)):\n",
    "        parts+=[(word[:i],word[i:])]\n",
    "    return parts"
   ]
  },
  {
   "cell_type": "code",
   "execution_count": 14,
   "id": "80bc014e",
   "metadata": {},
   "outputs": [
    {
     "data": {
      "text/plain": [
       "[('', 'laove'), ('l', 'aove'), ('la', 'ove'), ('lao', 've'), ('laov', 'e')]"
      ]
     },
     "execution_count": 14,
     "metadata": {},
     "output_type": "execute_result"
    }
   ],
   "source": [
    "split('laove')"
   ]
  },
  {
   "cell_type": "markdown",
   "id": "2a979b1c",
   "metadata": {},
   "source": [
    "### 3.2 Deletion operation\n",
    "\n",
    "'loave' -> 'love'"
   ]
  },
  {
   "cell_type": "code",
   "execution_count": 15,
   "id": "4b593b68",
   "metadata": {},
   "outputs": [],
   "source": [
    "def delete(word):\n",
    "    delt=[]\n",
    "    for l,r in split(word):\n",
    "        delt.append(l+r[1:])\n",
    "    return delt"
   ]
  },
  {
   "cell_type": "code",
   "execution_count": 16,
   "id": "c19cdc88",
   "metadata": {},
   "outputs": [
    {
     "data": {
      "text/plain": [
       "['aove', 'love', 'lave', 'laoe', 'laov']"
      ]
     },
     "execution_count": 16,
     "metadata": {},
     "output_type": "execute_result"
    }
   ],
   "source": [
    "delete('laove')"
   ]
  },
  {
   "cell_type": "markdown",
   "id": "e43249d2",
   "metadata": {},
   "source": [
    "### 3.3 Insert Operation\n",
    "'lve' -> 'love'"
   ]
  },
  {
   "cell_type": "code",
   "execution_count": 19,
   "id": "ec7e705a",
   "metadata": {},
   "outputs": [],
   "source": [
    "characters='abcdefghijklmnopqrstuvwxyz'"
   ]
  },
  {
   "cell_type": "code",
   "execution_count": 26,
   "id": "e90d47d2",
   "metadata": {},
   "outputs": [],
   "source": [
    "def insert(word):\n",
    "    inst=[]\n",
    "    for l,r in split(word):\n",
    "        for char in characters:\n",
    "            inst.append(l+char+r)\n",
    "    return inst"
   ]
  },
  {
   "cell_type": "code",
   "execution_count": 27,
   "id": "661503dc",
   "metadata": {},
   "outputs": [
    {
     "data": {
      "text/plain": [
       "['alve',\n",
       " 'blve',\n",
       " 'clve',\n",
       " 'dlve',\n",
       " 'elve',\n",
       " 'flve',\n",
       " 'glve',\n",
       " 'hlve',\n",
       " 'ilve',\n",
       " 'jlve',\n",
       " 'klve',\n",
       " 'llve',\n",
       " 'mlve',\n",
       " 'nlve',\n",
       " 'olve',\n",
       " 'plve',\n",
       " 'qlve',\n",
       " 'rlve',\n",
       " 'slve',\n",
       " 'tlve',\n",
       " 'ulve',\n",
       " 'vlve',\n",
       " 'wlve',\n",
       " 'xlve',\n",
       " 'ylve',\n",
       " 'zlve',\n",
       " 'lave',\n",
       " 'lbve',\n",
       " 'lcve',\n",
       " 'ldve',\n",
       " 'leve',\n",
       " 'lfve',\n",
       " 'lgve',\n",
       " 'lhve',\n",
       " 'live',\n",
       " 'ljve',\n",
       " 'lkve',\n",
       " 'llve',\n",
       " 'lmve',\n",
       " 'lnve',\n",
       " 'love',\n",
       " 'lpve',\n",
       " 'lqve',\n",
       " 'lrve',\n",
       " 'lsve',\n",
       " 'ltve',\n",
       " 'luve',\n",
       " 'lvve',\n",
       " 'lwve',\n",
       " 'lxve',\n",
       " 'lyve',\n",
       " 'lzve',\n",
       " 'lvae',\n",
       " 'lvbe',\n",
       " 'lvce',\n",
       " 'lvde',\n",
       " 'lvee',\n",
       " 'lvfe',\n",
       " 'lvge',\n",
       " 'lvhe',\n",
       " 'lvie',\n",
       " 'lvje',\n",
       " 'lvke',\n",
       " 'lvle',\n",
       " 'lvme',\n",
       " 'lvne',\n",
       " 'lvoe',\n",
       " 'lvpe',\n",
       " 'lvqe',\n",
       " 'lvre',\n",
       " 'lvse',\n",
       " 'lvte',\n",
       " 'lvue',\n",
       " 'lvve',\n",
       " 'lvwe',\n",
       " 'lvxe',\n",
       " 'lvye',\n",
       " 'lvze']"
      ]
     },
     "execution_count": 27,
     "metadata": {},
     "output_type": "execute_result"
    }
   ],
   "source": [
    "insert('lve')"
   ]
  },
  {
   "cell_type": "markdown",
   "id": "5dd41a0d",
   "metadata": {},
   "source": [
    "### 3.3 Swap\n",
    "'lvoe' -> 'love'"
   ]
  },
  {
   "cell_type": "code",
   "execution_count": 30,
   "id": "252e6cb0",
   "metadata": {},
   "outputs": [],
   "source": [
    "def swap(word):\n",
    "    swap=[]\n",
    "    for l,r in split(word):\n",
    "        if(len(r)>2):\n",
    "            swap.append(l+r[1]+r[0]+r[2:])\n",
    "    return swap"
   ]
  },
  {
   "cell_type": "code",
   "execution_count": 31,
   "id": "beba6921",
   "metadata": {},
   "outputs": [
    {
     "data": {
      "text/plain": [
       "['vloe', 'love']"
      ]
     },
     "execution_count": 31,
     "metadata": {},
     "output_type": "execute_result"
    }
   ],
   "source": [
    "swap('lvoe')"
   ]
  },
  {
   "cell_type": "markdown",
   "id": "2aac681e",
   "metadata": {},
   "source": [
    "### Replace\n",
    "'lave' -> 'love'"
   ]
  },
  {
   "cell_type": "code",
   "execution_count": 32,
   "id": "ca2430f7",
   "metadata": {},
   "outputs": [],
   "source": [
    "def replace(word):\n",
    "    rplc=[]\n",
    "    for l,r in split(word):\n",
    "        for char in characters:\n",
    "            rplc.append(l+char+r[1:])\n",
    "    return rplc"
   ]
  },
  {
   "cell_type": "code",
   "execution_count": 33,
   "id": "4473f0c3",
   "metadata": {},
   "outputs": [
    {
     "data": {
      "text/plain": [
       "['aave',\n",
       " 'bave',\n",
       " 'cave',\n",
       " 'dave',\n",
       " 'eave',\n",
       " 'fave',\n",
       " 'gave',\n",
       " 'have',\n",
       " 'iave',\n",
       " 'jave',\n",
       " 'kave',\n",
       " 'lave',\n",
       " 'mave',\n",
       " 'nave',\n",
       " 'oave',\n",
       " 'pave',\n",
       " 'qave',\n",
       " 'rave',\n",
       " 'save',\n",
       " 'tave',\n",
       " 'uave',\n",
       " 'vave',\n",
       " 'wave',\n",
       " 'xave',\n",
       " 'yave',\n",
       " 'zave',\n",
       " 'lave',\n",
       " 'lbve',\n",
       " 'lcve',\n",
       " 'ldve',\n",
       " 'leve',\n",
       " 'lfve',\n",
       " 'lgve',\n",
       " 'lhve',\n",
       " 'live',\n",
       " 'ljve',\n",
       " 'lkve',\n",
       " 'llve',\n",
       " 'lmve',\n",
       " 'lnve',\n",
       " 'love',\n",
       " 'lpve',\n",
       " 'lqve',\n",
       " 'lrve',\n",
       " 'lsve',\n",
       " 'ltve',\n",
       " 'luve',\n",
       " 'lvve',\n",
       " 'lwve',\n",
       " 'lxve',\n",
       " 'lyve',\n",
       " 'lzve',\n",
       " 'laae',\n",
       " 'labe',\n",
       " 'lace',\n",
       " 'lade',\n",
       " 'laee',\n",
       " 'lafe',\n",
       " 'lage',\n",
       " 'lahe',\n",
       " 'laie',\n",
       " 'laje',\n",
       " 'lake',\n",
       " 'lale',\n",
       " 'lame',\n",
       " 'lane',\n",
       " 'laoe',\n",
       " 'lape',\n",
       " 'laqe',\n",
       " 'lare',\n",
       " 'lase',\n",
       " 'late',\n",
       " 'laue',\n",
       " 'lave',\n",
       " 'lawe',\n",
       " 'laxe',\n",
       " 'laye',\n",
       " 'laze',\n",
       " 'lava',\n",
       " 'lavb',\n",
       " 'lavc',\n",
       " 'lavd',\n",
       " 'lave',\n",
       " 'lavf',\n",
       " 'lavg',\n",
       " 'lavh',\n",
       " 'lavi',\n",
       " 'lavj',\n",
       " 'lavk',\n",
       " 'lavl',\n",
       " 'lavm',\n",
       " 'lavn',\n",
       " 'lavo',\n",
       " 'lavp',\n",
       " 'lavq',\n",
       " 'lavr',\n",
       " 'lavs',\n",
       " 'lavt',\n",
       " 'lavu',\n",
       " 'lavv',\n",
       " 'lavw',\n",
       " 'lavx',\n",
       " 'lavy',\n",
       " 'lavz']"
      ]
     },
     "execution_count": 33,
     "metadata": {},
     "output_type": "execute_result"
    }
   ],
   "source": [
    "replace('lave')"
   ]
  },
  {
   "cell_type": "markdown",
   "id": "55b7631d",
   "metadata": {},
   "source": [
    "### 4 combining possible words and taking Unique words"
   ]
  },
  {
   "cell_type": "code",
   "execution_count": 34,
   "id": "776497e7",
   "metadata": {},
   "outputs": [],
   "source": [
    "def edit(word):\n",
    "    return set(insert(word)+swap(word)+delete(word)+replace(word))"
   ]
  },
  {
   "cell_type": "markdown",
   "id": "909d5e0a",
   "metadata": {},
   "source": [
    "### 5.Predictingcorrect word"
   ]
  },
  {
   "cell_type": "code",
   "execution_count": 39,
   "id": "565fbf4e",
   "metadata": {},
   "outputs": [],
   "source": [
    "def spell_check_edit_1(word, count = 5):\n",
    "    \n",
    "    output = []\n",
    "    suggested_words = edit(word)\n",
    "    \n",
    "    for wrd in suggested_words:        \n",
    "        if wrd in word_prob.keys():\n",
    "            output.append([wrd, word_prob[wrd]])\n",
    "            \n",
    "    return list(pd.DataFrame(output, columns = ['word','prob']).sort_values(by = 'prob', ascending = False).head(count)['word'].values)"
   ]
  },
  {
   "cell_type": "code",
   "execution_count": 40,
   "id": "50f994de",
   "metadata": {},
   "outputs": [
    {
     "data": {
      "text/plain": [
       "[]"
      ]
     },
     "execution_count": 40,
     "metadata": {},
     "output_type": "execute_result"
    }
   ],
   "source": [
    "spell_check('fameli')"
   ]
  },
  {
   "cell_type": "code",
   "execution_count": 44,
   "id": "36de319b",
   "metadata": {},
   "outputs": [
    {
     "data": {
      "text/plain": [
       "['family', 'namely', 'fame', 'camel', 'famed']"
      ]
     },
     "execution_count": 44,
     "metadata": {},
     "output_type": "execute_result"
    }
   ],
   "source": [
    "def spell_check_edit_2(word, count = 5):\n",
    "    \n",
    "    output = []\n",
    "    suggested_words = edit(word)  # Level one Edit\n",
    "    \n",
    "    suggested_word=set(suggested_words)\n",
    "    for e1 in edit(word):\n",
    "        suggested_word |= set(edit(e1))    # Second Level Edit \n",
    "    \n",
    "    suggested_words = list(set(suggested_word))\n",
    "    \n",
    "    for wrd in suggested_words:\n",
    "        if wrd in word_prob.keys():\n",
    "            output.append([wrd, word_prob[wrd]])\n",
    "    return list(pd.DataFrame(output, columns = ['word','prob']).sort_values(by = 'prob', ascending = False).head(count)['word'].values)\n",
    "        \n",
    "spell_check_edit_2('fameli')"
   ]
  },
  {
   "cell_type": "code",
   "execution_count": null,
   "id": "107555f3",
   "metadata": {},
   "outputs": [],
   "source": []
  }
 ],
 "metadata": {
  "kernelspec": {
   "display_name": "Python 3 (ipykernel)",
   "language": "python",
   "name": "python3"
  },
  "language_info": {
   "codemirror_mode": {
    "name": "ipython",
    "version": 3
   },
   "file_extension": ".py",
   "mimetype": "text/x-python",
   "name": "python",
   "nbconvert_exporter": "python",
   "pygments_lexer": "ipython3",
   "version": "3.11.5"
  }
 },
 "nbformat": 4,
 "nbformat_minor": 5
}
