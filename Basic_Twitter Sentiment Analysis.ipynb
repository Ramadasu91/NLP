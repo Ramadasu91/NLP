{
 "cells": [
  {
   "cell_type": "code",
   "execution_count": 1,
   "id": "6c513198",
   "metadata": {},
   "outputs": [],
   "source": [
    "import pandas as pd\n",
    "import re\n",
    "from nltk.stem import PorterStemmer\n",
    "from tqdm import tqdm\n",
    "import joblib\n",
    "import pickle\n",
    "from nltk.corpus import stopwords\n",
    "from sklearn.feature_extraction.text import TfidfVectorizer\n",
    "from sklearn.naive_bayes import MultinomialNB\n",
    "from sklearn.metrics import accuracy_score\n",
    "from tqdm import tqdm\n",
    "\n",
    "tfidf=TfidfVectorizer()\n",
    "stemmer=PorterStemmer()"
   ]
  },
  {
   "cell_type": "code",
   "execution_count": 2,
   "id": "621fb818",
   "metadata": {},
   "outputs": [],
   "source": [
    "def loading_tweets(file_name):\n",
    "    df=pd.read_csv(file_name,header=None)\n",
    "    df=df.rename({0:'id',1:'company',2:'sentiment',3:'raw_tweets'},axis=1)\n",
    "    df=df[df['sentiment']!='Irrelavent']\n",
    "    df=df[df['sentiment']!='Neutral']\n",
    "    df=df.dropna()\n",
    "    \n",
    "    return df['raw_tweets'].values,df"
   ]
  },
  {
   "cell_type": "code",
   "execution_count": 3,
   "id": "3a975ab9",
   "metadata": {},
   "outputs": [],
   "source": [
    "def processed_tweets(tweets):\n",
    "    processed_tweets=[]\n",
    "    for tweet in tqdm(tweets):\n",
    "        tweet=re.sub(r'[^a-zA-Z]',' ',tweet)\n",
    "        tweet=tweet.lower()\n",
    "        tweet=[word for word in tweet.split(' ') if not word in stopwords.words('english')]\n",
    "        tweet=[stemmer.stem(word) for word in tweet]\n",
    "        tweet=[word for word in tweet if len(word)!=0]\n",
    "        tweet=' '.join(tweet)\n",
    "        processed_tweets.append(tweet)\n",
    "    return processed_tweets"
   ]
  },
  {
   "cell_type": "markdown",
   "id": "64f3ab9e",
   "metadata": {},
   "source": [
    "### Preparing Training data"
   ]
  },
  {
   "cell_type": "code",
   "execution_count": 4,
   "id": "ddb4e03c",
   "metadata": {},
   "outputs": [],
   "source": [
    "train_tweets,df_train=loading_tweets('twitter_training.csv/twitter_training.csv')"
   ]
  },
  {
   "cell_type": "code",
   "execution_count": 5,
   "id": "9f5f7f99",
   "metadata": {},
   "outputs": [
    {
     "name": "stderr",
     "output_type": "stream",
     "text": [
      "100%|██████████| 55888/55888 [11:49<00:00, 78.79it/s]   \n"
     ]
    }
   ],
   "source": [
    "train_tweets=processed_tweets(train_tweets)"
   ]
  },
  {
   "cell_type": "code",
   "execution_count": 6,
   "id": "6c021dcd",
   "metadata": {},
   "outputs": [],
   "source": [
    "# Transform test tweets using the pre-fitted TF-IDF vectorizer\n",
    "train_tweets = tfidf.fit_transform(train_tweets)"
   ]
  },
  {
   "cell_type": "code",
   "execution_count": 7,
   "id": "67c51f40",
   "metadata": {},
   "outputs": [],
   "source": [
    "# Convert the TF-IDF matrix to a dense array for train data\n",
    "x_train = train_tweets.toarray()\n",
    "\n",
    "# Convert sentiment labels to one-hot encoded vectors for training\n",
    "y_train = pd.get_dummies(df_train['sentiment']).values[:, 1:]"
   ]
  },
  {
   "cell_type": "code",
   "execution_count": 8,
   "id": "5bc10b0c",
   "metadata": {},
   "outputs": [],
   "source": [
    "test_tweets,df_test=loading_tweets('twitter_Validation.csv')"
   ]
  },
  {
   "cell_type": "code",
   "execution_count": 9,
   "id": "9736e262",
   "metadata": {},
   "outputs": [
    {
     "name": "stderr",
     "output_type": "stream",
     "text": [
      "100%|██████████| 715/715 [00:06<00:00, 106.17it/s]\n"
     ]
    }
   ],
   "source": [
    "test_tweets=processed_tweets(test_tweets)"
   ]
  },
  {
   "cell_type": "code",
   "execution_count": 10,
   "id": "38b0bfbf",
   "metadata": {},
   "outputs": [],
   "source": [
    "# Transform test tweets using the pre-fitted TF-IDF vectorizer\n",
    "test_tweets = tfidf.fit_transform(test_tweets)"
   ]
  },
  {
   "cell_type": "code",
   "execution_count": 11,
   "id": "78a648e4",
   "metadata": {},
   "outputs": [],
   "source": [
    "# Convert the TF-IDF matrix to a dense array for test data\n",
    "x_test = test_tweets.toarray()\n",
    "\n",
    "# Convert sentiment labels to one-hot encoded vectors for testing\n",
    "y_test = pd.get_dummies(df_test['sentiment']).values[:, 1:]"
   ]
  },
  {
   "cell_type": "code",
   "execution_count": 12,
   "id": "475ecd27",
   "metadata": {},
   "outputs": [
    {
     "name": "stdout",
     "output_type": "stream",
     "text": [
      "[2 2 2 ... 2 2 2]\n"
     ]
    }
   ],
   "source": [
    "from sklearn.preprocessing import LabelEncoder\n",
    "\n",
    "# Assuming df_train is your DataFrame and 'sentiment' is the column to be encoded\n",
    "label_encoder = LabelEncoder()\n",
    "y_train = label_encoder.fit_transform(df_train['sentiment'])\n",
    "y_train = y_train.astype(int)\n",
    "\n",
    "print(y_train)"
   ]
  },
  {
   "cell_type": "code",
   "execution_count": 13,
   "id": "73feabbb",
   "metadata": {},
   "outputs": [
    {
     "name": "stdout",
     "output_type": "stream",
     "text": [
      "[0 1 1 1 2 2 2 1 2 2 1 1 2 2 1 2 1 1 0 1 1 0 0 1 2 2 1 2 1 0 2 2 2 1 1 1 2\n",
      " 1 1 2 2 2 2 2 1 0 1 2 2 0 1 1 0 1 2 1 1 2 2 0 2 0 2 2 2 1 0 1 1 2 0 0 1 1\n",
      " 1 2 1 2 2 2 2 1 1 1 2 2 1 1 2 1 1 2 1 0 2 2 2 0 0 0 0 0 0 0 2 2 0 2 1 0 1\n",
      " 2 1 1 0 0 0 1 1 1 2 2 2 2 0 2 1 1 2 2 0 0 2 2 0 1 1 1 1 2 2 2 2 2 1 2 2 0\n",
      " 0 1 1 0 0 1 2 2 1 0 1 2 2 1 0 0 2 2 1 2 0 0 0 1 2 1 0 0 2 2 0 0 2 1 1 2 2\n",
      " 2 2 2 1 2 1 1 2 2 0 1 0 2 0 1 1 2 2 1 1 1 2 1 2 1 2 1 2 1 0 2 1 1 0 2 1 2\n",
      " 0 2 2 2 2 2 1 1 2 1 2 0 2 0 1 0 0 1 2 1 1 0 0 2 0 2 0 0 1 1 1 2 0 1 2 0 1\n",
      " 1 1 2 0 1 2 2 0 0 2 2 2 1 2 1 1 0 1 2 2 0 2 2 1 0 0 2 2 1 1 1 0 2 2 0 1 0\n",
      " 1 2 2 2 2 0 1 2 2 1 2 1 1 1 1 1 2 2 1 1 1 1 0 2 0 0 1 2 2 2 0 2 0 1 2 0 0\n",
      " 0 0 0 0 1 1 2 0 0 2 0 0 1 1 2 2 1 2 2 2 2 0 2 0 1 2 2 2 0 2 0 2 0 1 1 1 1\n",
      " 2 1 1 2 2 1 1 2 1 1 1 2 1 1 1 0 1 1 2 0 0 1 1 2 1 2 2 1 2 0 1 1 0 1 2 1 1\n",
      " 1 1 2 1 2 1 2 1 1 1 1 2 1 0 1 1 2 1 2 0 0 0 1 0 1 1 0 0 2 1 2 0 0 2 2 2 0\n",
      " 2 1 2 0 0 1 2 1 0 1 0 0 0 2 0 1 2 1 1 0 2 2 0 2 0 1 0 1 2 0 1 2 0 0 2 2 1\n",
      " 1 2 1 2 1 2 2 0 2 1 1 2 1 0 2 2 2 0 2 1 2 2 0 2 2 2 1 2 1 1 1 2 1 0 2 2 2\n",
      " 0 2 0 1 1 0 1 2 1 2 2 1 1 1 1 0 1 0 2 2 2 2 1 1 2 1 1 0 2 1 2 1 2 1 2 0 1\n",
      " 0 1 0 2 2 2 2 1 2 0 1 2 1 1 2 1 1 1 0 1 2 2 0 1 2 2 1 0 2 2 1 2 2 1 1 1 0\n",
      " 2 1 1 0 2 2 1 2 1 1 1 1 1 1 1 0 0 1 1 2 0 0 1 2 1 1 2 0 2 2 0 1 0 0 0 2 2\n",
      " 0 2 2 0 1 1 2 1 1 1 1 2 1 2 0 1 2 2 1 2 0 2 1 0 0 1 2 0 0 2 1 2 1 1 1 0 1\n",
      " 2 0 1 1 2 2 0 0 1 0 1 0 2 2 2 2 1 2 0 0 2 2 0 2 1 1 2 2 2 0 2 0 1 2 2 1 1\n",
      " 1 2 0 2 2 2 1 2 0 0 2 2]\n"
     ]
    }
   ],
   "source": [
    "from sklearn.preprocessing import LabelEncoder\n",
    "# Assuming df_train is your DataFrame and 'sentiment' is the column to be encoded\n",
    "label_encoder = LabelEncoder()\n",
    "y_test = label_encoder.fit_transform(df_test['sentiment'])\n",
    "y_test = y_test.astype(int)\n",
    "\n",
    "print(y_test)"
   ]
  },
  {
   "cell_type": "markdown",
   "id": "d38ee261",
   "metadata": {},
   "source": [
    "### Model training"
   ]
  },
  {
   "cell_type": "code",
   "execution_count": 14,
   "id": "518e92ea",
   "metadata": {},
   "outputs": [
    {
     "data": {
      "text/html": [
       "<style>#sk-container-id-1 {color: black;}#sk-container-id-1 pre{padding: 0;}#sk-container-id-1 div.sk-toggleable {background-color: white;}#sk-container-id-1 label.sk-toggleable__label {cursor: pointer;display: block;width: 100%;margin-bottom: 0;padding: 0.3em;box-sizing: border-box;text-align: center;}#sk-container-id-1 label.sk-toggleable__label-arrow:before {content: \"▸\";float: left;margin-right: 0.25em;color: #696969;}#sk-container-id-1 label.sk-toggleable__label-arrow:hover:before {color: black;}#sk-container-id-1 div.sk-estimator:hover label.sk-toggleable__label-arrow:before {color: black;}#sk-container-id-1 div.sk-toggleable__content {max-height: 0;max-width: 0;overflow: hidden;text-align: left;background-color: #f0f8ff;}#sk-container-id-1 div.sk-toggleable__content pre {margin: 0.2em;color: black;border-radius: 0.25em;background-color: #f0f8ff;}#sk-container-id-1 input.sk-toggleable__control:checked~div.sk-toggleable__content {max-height: 200px;max-width: 100%;overflow: auto;}#sk-container-id-1 input.sk-toggleable__control:checked~label.sk-toggleable__label-arrow:before {content: \"▾\";}#sk-container-id-1 div.sk-estimator input.sk-toggleable__control:checked~label.sk-toggleable__label {background-color: #d4ebff;}#sk-container-id-1 div.sk-label input.sk-toggleable__control:checked~label.sk-toggleable__label {background-color: #d4ebff;}#sk-container-id-1 input.sk-hidden--visually {border: 0;clip: rect(1px 1px 1px 1px);clip: rect(1px, 1px, 1px, 1px);height: 1px;margin: -1px;overflow: hidden;padding: 0;position: absolute;width: 1px;}#sk-container-id-1 div.sk-estimator {font-family: monospace;background-color: #f0f8ff;border: 1px dotted black;border-radius: 0.25em;box-sizing: border-box;margin-bottom: 0.5em;}#sk-container-id-1 div.sk-estimator:hover {background-color: #d4ebff;}#sk-container-id-1 div.sk-parallel-item::after {content: \"\";width: 100%;border-bottom: 1px solid gray;flex-grow: 1;}#sk-container-id-1 div.sk-label:hover label.sk-toggleable__label {background-color: #d4ebff;}#sk-container-id-1 div.sk-serial::before {content: \"\";position: absolute;border-left: 1px solid gray;box-sizing: border-box;top: 0;bottom: 0;left: 50%;z-index: 0;}#sk-container-id-1 div.sk-serial {display: flex;flex-direction: column;align-items: center;background-color: white;padding-right: 0.2em;padding-left: 0.2em;position: relative;}#sk-container-id-1 div.sk-item {position: relative;z-index: 1;}#sk-container-id-1 div.sk-parallel {display: flex;align-items: stretch;justify-content: center;background-color: white;position: relative;}#sk-container-id-1 div.sk-item::before, #sk-container-id-1 div.sk-parallel-item::before {content: \"\";position: absolute;border-left: 1px solid gray;box-sizing: border-box;top: 0;bottom: 0;left: 50%;z-index: -1;}#sk-container-id-1 div.sk-parallel-item {display: flex;flex-direction: column;z-index: 1;position: relative;background-color: white;}#sk-container-id-1 div.sk-parallel-item:first-child::after {align-self: flex-end;width: 50%;}#sk-container-id-1 div.sk-parallel-item:last-child::after {align-self: flex-start;width: 50%;}#sk-container-id-1 div.sk-parallel-item:only-child::after {width: 0;}#sk-container-id-1 div.sk-dashed-wrapped {border: 1px dashed gray;margin: 0 0.4em 0.5em 0.4em;box-sizing: border-box;padding-bottom: 0.4em;background-color: white;}#sk-container-id-1 div.sk-label label {font-family: monospace;font-weight: bold;display: inline-block;line-height: 1.2em;}#sk-container-id-1 div.sk-label-container {text-align: center;}#sk-container-id-1 div.sk-container {/* jupyter's `normalize.less` sets `[hidden] { display: none; }` but bootstrap.min.css set `[hidden] { display: none !important; }` so we also need the `!important` here to be able to override the default hidden behavior on the sphinx rendered scikit-learn.org. See: https://github.com/scikit-learn/scikit-learn/issues/21755 */display: inline-block !important;position: relative;}#sk-container-id-1 div.sk-text-repr-fallback {display: none;}</style><div id=\"sk-container-id-1\" class=\"sk-top-container\"><div class=\"sk-text-repr-fallback\"><pre>MultinomialNB()</pre><b>In a Jupyter environment, please rerun this cell to show the HTML representation or trust the notebook. <br />On GitHub, the HTML representation is unable to render, please try loading this page with nbviewer.org.</b></div><div class=\"sk-container\" hidden><div class=\"sk-item\"><div class=\"sk-estimator sk-toggleable\"><input class=\"sk-toggleable__control sk-hidden--visually\" id=\"sk-estimator-id-1\" type=\"checkbox\" checked><label for=\"sk-estimator-id-1\" class=\"sk-toggleable__label sk-toggleable__label-arrow\">MultinomialNB</label><div class=\"sk-toggleable__content\"><pre>MultinomialNB()</pre></div></div></div></div></div>"
      ],
      "text/plain": [
       "MultinomialNB()"
      ]
     },
     "execution_count": 14,
     "metadata": {},
     "output_type": "execute_result"
    }
   ],
   "source": [
    "mdl=MultinomialNB()\n",
    "mdl.fit(x_train,y_train)"
   ]
  },
  {
   "cell_type": "markdown",
   "id": "bd799105",
   "metadata": {},
   "source": [
    "### Model Evaluation"
   ]
  },
  {
   "cell_type": "code",
   "execution_count": 15,
   "id": "a432c148",
   "metadata": {},
   "outputs": [
    {
     "name": "stdout",
     "output_type": "stream",
     "text": [
      "Training accuracy 82.318\n"
     ]
    },
    {
     "ename": "ValueError",
     "evalue": "X has 3236 features, but MultinomialNB is expecting 17254 features as input.",
     "output_type": "error",
     "traceback": [
      "\u001b[1;31m---------------------------------------------------------------------------\u001b[0m",
      "\u001b[1;31mValueError\u001b[0m                                Traceback (most recent call last)",
      "Cell \u001b[1;32mIn[15], line 2\u001b[0m\n\u001b[0;32m      1\u001b[0m \u001b[38;5;28mprint\u001b[39m(\u001b[38;5;124m'\u001b[39m\u001b[38;5;124mTraining accuracy\u001b[39m\u001b[38;5;124m'\u001b[39m,\u001b[38;5;28mround\u001b[39m(accuracy_score(mdl\u001b[38;5;241m.\u001b[39mpredict(x_train),y_train)\u001b[38;5;241m*\u001b[39m\u001b[38;5;241m100\u001b[39m,\u001b[38;5;241m3\u001b[39m))\n\u001b[1;32m----> 2\u001b[0m \u001b[38;5;28mprint\u001b[39m(\u001b[38;5;124m'\u001b[39m\u001b[38;5;124mTest accuracy\u001b[39m\u001b[38;5;124m'\u001b[39m,\u001b[38;5;28mround\u001b[39m(accuracy_score(mdl\u001b[38;5;241m.\u001b[39mpredict(x_test),y_test)\u001b[38;5;241m*\u001b[39m\u001b[38;5;241m100\u001b[39m,\u001b[38;5;241m3\u001b[39m))\n",
      "File \u001b[1;32m~\\Desktop\\anaconda3\\Lib\\site-packages\\sklearn\\naive_bayes.py:101\u001b[0m, in \u001b[0;36m_BaseNB.predict\u001b[1;34m(self, X)\u001b[0m\n\u001b[0;32m     87\u001b[0m \u001b[38;5;250m\u001b[39m\u001b[38;5;124;03m\"\"\"\u001b[39;00m\n\u001b[0;32m     88\u001b[0m \u001b[38;5;124;03mPerform classification on an array of test vectors X.\u001b[39;00m\n\u001b[0;32m     89\u001b[0m \n\u001b[1;32m   (...)\u001b[0m\n\u001b[0;32m     98\u001b[0m \u001b[38;5;124;03m    Predicted target values for X.\u001b[39;00m\n\u001b[0;32m     99\u001b[0m \u001b[38;5;124;03m\"\"\"\u001b[39;00m\n\u001b[0;32m    100\u001b[0m check_is_fitted(\u001b[38;5;28mself\u001b[39m)\n\u001b[1;32m--> 101\u001b[0m X \u001b[38;5;241m=\u001b[39m \u001b[38;5;28mself\u001b[39m\u001b[38;5;241m.\u001b[39m_check_X(X)\n\u001b[0;32m    102\u001b[0m jll \u001b[38;5;241m=\u001b[39m \u001b[38;5;28mself\u001b[39m\u001b[38;5;241m.\u001b[39m_joint_log_likelihood(X)\n\u001b[0;32m    103\u001b[0m \u001b[38;5;28;01mreturn\u001b[39;00m \u001b[38;5;28mself\u001b[39m\u001b[38;5;241m.\u001b[39mclasses_[np\u001b[38;5;241m.\u001b[39margmax(jll, axis\u001b[38;5;241m=\u001b[39m\u001b[38;5;241m1\u001b[39m)]\n",
      "File \u001b[1;32m~\\Desktop\\anaconda3\\Lib\\site-packages\\sklearn\\naive_bayes.py:574\u001b[0m, in \u001b[0;36m_BaseDiscreteNB._check_X\u001b[1;34m(self, X)\u001b[0m\n\u001b[0;32m    572\u001b[0m \u001b[38;5;28;01mdef\u001b[39;00m \u001b[38;5;21m_check_X\u001b[39m(\u001b[38;5;28mself\u001b[39m, X):\n\u001b[0;32m    573\u001b[0m \u001b[38;5;250m    \u001b[39m\u001b[38;5;124;03m\"\"\"Validate X, used only in predict* methods.\"\"\"\u001b[39;00m\n\u001b[1;32m--> 574\u001b[0m     \u001b[38;5;28;01mreturn\u001b[39;00m \u001b[38;5;28mself\u001b[39m\u001b[38;5;241m.\u001b[39m_validate_data(X, accept_sparse\u001b[38;5;241m=\u001b[39m\u001b[38;5;124m\"\u001b[39m\u001b[38;5;124mcsr\u001b[39m\u001b[38;5;124m\"\u001b[39m, reset\u001b[38;5;241m=\u001b[39m\u001b[38;5;28;01mFalse\u001b[39;00m)\n",
      "File \u001b[1;32m~\\Desktop\\anaconda3\\Lib\\site-packages\\sklearn\\base.py:625\u001b[0m, in \u001b[0;36mBaseEstimator._validate_data\u001b[1;34m(self, X, y, reset, validate_separately, cast_to_ndarray, **check_params)\u001b[0m\n\u001b[0;32m    622\u001b[0m     out \u001b[38;5;241m=\u001b[39m X, y\n\u001b[0;32m    624\u001b[0m \u001b[38;5;28;01mif\u001b[39;00m \u001b[38;5;129;01mnot\u001b[39;00m no_val_X \u001b[38;5;129;01mand\u001b[39;00m check_params\u001b[38;5;241m.\u001b[39mget(\u001b[38;5;124m\"\u001b[39m\u001b[38;5;124mensure_2d\u001b[39m\u001b[38;5;124m\"\u001b[39m, \u001b[38;5;28;01mTrue\u001b[39;00m):\n\u001b[1;32m--> 625\u001b[0m     \u001b[38;5;28mself\u001b[39m\u001b[38;5;241m.\u001b[39m_check_n_features(X, reset\u001b[38;5;241m=\u001b[39mreset)\n\u001b[0;32m    627\u001b[0m \u001b[38;5;28;01mreturn\u001b[39;00m out\n",
      "File \u001b[1;32m~\\Desktop\\anaconda3\\Lib\\site-packages\\sklearn\\base.py:414\u001b[0m, in \u001b[0;36mBaseEstimator._check_n_features\u001b[1;34m(self, X, reset)\u001b[0m\n\u001b[0;32m    411\u001b[0m     \u001b[38;5;28;01mreturn\u001b[39;00m\n\u001b[0;32m    413\u001b[0m \u001b[38;5;28;01mif\u001b[39;00m n_features \u001b[38;5;241m!=\u001b[39m \u001b[38;5;28mself\u001b[39m\u001b[38;5;241m.\u001b[39mn_features_in_:\n\u001b[1;32m--> 414\u001b[0m     \u001b[38;5;28;01mraise\u001b[39;00m \u001b[38;5;167;01mValueError\u001b[39;00m(\n\u001b[0;32m    415\u001b[0m         \u001b[38;5;124mf\u001b[39m\u001b[38;5;124m\"\u001b[39m\u001b[38;5;124mX has \u001b[39m\u001b[38;5;132;01m{\u001b[39;00mn_features\u001b[38;5;132;01m}\u001b[39;00m\u001b[38;5;124m features, but \u001b[39m\u001b[38;5;132;01m{\u001b[39;00m\u001b[38;5;28mself\u001b[39m\u001b[38;5;241m.\u001b[39m\u001b[38;5;18m__class__\u001b[39m\u001b[38;5;241m.\u001b[39m\u001b[38;5;18m__name__\u001b[39m\u001b[38;5;132;01m}\u001b[39;00m\u001b[38;5;124m \u001b[39m\u001b[38;5;124m\"\u001b[39m\n\u001b[0;32m    416\u001b[0m         \u001b[38;5;124mf\u001b[39m\u001b[38;5;124m\"\u001b[39m\u001b[38;5;124mis expecting \u001b[39m\u001b[38;5;132;01m{\u001b[39;00m\u001b[38;5;28mself\u001b[39m\u001b[38;5;241m.\u001b[39mn_features_in_\u001b[38;5;132;01m}\u001b[39;00m\u001b[38;5;124m features as input.\u001b[39m\u001b[38;5;124m\"\u001b[39m\n\u001b[0;32m    417\u001b[0m     )\n",
      "\u001b[1;31mValueError\u001b[0m: X has 3236 features, but MultinomialNB is expecting 17254 features as input."
     ]
    }
   ],
   "source": [
    "print('Training accuracy',round(accuracy_score(mdl.predict(x_train),y_train)*100,3))\n",
    "print('Test accuracy',round(accuracy_score(mdl.predict(x_test),y_test)*100,3))"
   ]
  },
  {
   "cell_type": "markdown",
   "id": "97ecdaea",
   "metadata": {},
   "source": [
    "### Model saving"
   ]
  },
  {
   "cell_type": "code",
   "execution_count": 16,
   "id": "1f5a16ea",
   "metadata": {},
   "outputs": [],
   "source": [
    "joblib.dump(tfidf,'tfidf_model.joblib')       # saving tfidf vectorizer\n",
    "pickle.dump(mdl,open('model.mdl','wb'))       # svaing mdl model"
   ]
  },
  {
   "cell_type": "code",
   "execution_count": null,
   "id": "5b7b2df1",
   "metadata": {},
   "outputs": [],
   "source": []
  }
 ],
 "metadata": {
  "kernelspec": {
   "display_name": "Python 3 (ipykernel)",
   "language": "python",
   "name": "python3"
  },
  "language_info": {
   "codemirror_mode": {
    "name": "ipython",
    "version": 3
   },
   "file_extension": ".py",
   "mimetype": "text/x-python",
   "name": "python",
   "nbconvert_exporter": "python",
   "pygments_lexer": "ipython3",
   "version": "3.11.5"
  }
 },
 "nbformat": 4,
 "nbformat_minor": 5
}
