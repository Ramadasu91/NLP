{
 "cells": [
  {
   "cell_type": "markdown",
   "id": "8cb3620f",
   "metadata": {},
   "source": [
    "### One Hot Encoding:\n",
    "One-hot encoding is a representation of categorical variables as binary vectors. It is commonly used in machine learning and natural language processing tasks when dealing with categorical data. In this encoding scheme, each category is represented by a binary vector, where all elements are zero except for the index that corresponds to the category, which is marked with a 1.\n",
    "\n",
    "\n",
    "\n",
    "                         ## all   at    bad    not    its\n",
    "its not bad at all            1    1     1       1      1\n",
    "\n",
    "its not bad                   0    0     1       1      1\n",
    "\n",
    "its bad                       0    0     1       0      1 \n",
    "\n",
    "not bad at all                1    1     1       1      0\n",
    "\n",
    "The one-hot encoding scheme is applied to each unique word in the set of sentences, where each word corresponds to a binary position in the one-hot vector. The length of the vector is determined by the total number of unique words in the set.\n",
    "\n",
    "In this case, the unique words are: \"all\", \"at\", \"bad\", \"not\", \"its\". The length of the one-hot vectors is 5, corresponding to these five unique words.\n",
    "\n",
    "For each sentence, the one-hot vector is created by placing a 1 in the position that corresponds to the presence of a word in the sentence and 0 in the positions corresponding to the absence of that word. If a sentence contains multiple occurrences of a word, the corresponding position in the vector remains 1."
   ]
  },
  {
   "cell_type": "markdown",
   "id": "25eeb55c",
   "metadata": {},
   "source": [
    "### One Hot Encoding From Scratch"
   ]
  },
  {
   "cell_type": "code",
   "execution_count": 1,
   "id": "c8ad9817",
   "metadata": {},
   "outputs": [],
   "source": [
    "# import the required libraries\n",
    "import pandas as pd\n",
    "from nltk.tokenize import word_tokenize, sent_tokenize\n",
    "# Create a corpus\n",
    "corpus = 'GeeksforGeeks is not a website or a company. GeeksforGeeks is a coding environment. Thats what i love. Which is good. Not bad at all'\n"
   ]
  },
  {
   "cell_type": "code",
   "execution_count": 2,
   "id": "dd10e445",
   "metadata": {},
   "outputs": [
    {
     "name": "stdout",
     "output_type": "stream",
     "text": [
      "['is', 'environment', 'website', 'a', 'coding', 'good', 'GeeksforGeeks', 'Which', 'or', 'at', 'i', 'Thats', 'all', 'Not', 'not', 'bad', 'company', 'what', 'love']\n"
     ]
    }
   ],
   "source": [
    "seq = set() #Initializes an empty set\n",
    "\n",
    "for word in word_tokenize(corpus):\n",
    "    if(word != '.'): # adding words other than '.'\n",
    "        seq.add(word)\n",
    "        \n",
    "seq = list(seq) #Converts the set seq to a list\n",
    "\n",
    "print(seq)\n"
   ]
  },
  {
   "cell_type": "code",
   "execution_count": 3,
   "id": "4fb5bccb",
   "metadata": {},
   "outputs": [],
   "source": [
    "data = [] # Initializes an empty list \n",
    "\n",
    "for sent in sent_tokenize(corpus): #Tokenizing corpus into sentences\n",
    "    index = []\n",
    "    for word in word_tokenize(sent): # Tokenizing sentences into word\n",
    "        if(word != '.'):\n",
    "            index.append(seq.index(word)) # appending the index of that word\n",
    "            \n",
    "    data.append(index)\n"
   ]
  },
  {
   "cell_type": "code",
   "execution_count": 4,
   "id": "13173d48",
   "metadata": {},
   "outputs": [
    {
     "data": {
      "text/plain": [
       "[[6, 0, 14, 3, 2, 8, 3, 16],\n",
       " [6, 0, 3, 4, 1],\n",
       " [11, 17, 10, 18],\n",
       " [7, 0, 5],\n",
       " [13, 15, 9, 12]]"
      ]
     },
     "execution_count": 4,
     "metadata": {},
     "output_type": "execute_result"
    }
   ],
   "source": [
    "data # assigning index to each word in each sentence"
   ]
  },
  {
   "cell_type": "code",
   "execution_count": 5,
   "id": "dae0227b",
   "metadata": {},
   "outputs": [
    {
     "data": {
      "text/plain": [
       "[[1, 0, 1, 1, 0, 0, 1, 0, 1, 0, 0, 0, 0, 0, 1, 0, 1, 0, 0],\n",
       " [1, 1, 0, 1, 1, 0, 1, 0, 0, 0, 0, 0, 0, 0, 0, 0, 0, 0, 0],\n",
       " [0, 0, 0, 0, 0, 0, 0, 0, 0, 0, 1, 1, 0, 0, 0, 0, 0, 1, 1],\n",
       " [1, 0, 0, 0, 0, 1, 0, 1, 0, 0, 0, 0, 0, 0, 0, 0, 0, 0, 0],\n",
       " [0, 0, 0, 0, 0, 0, 0, 0, 0, 1, 0, 0, 1, 1, 0, 1, 0, 0, 0]]"
      ]
     },
     "execution_count": 5,
     "metadata": {},
     "output_type": "execute_result"
    }
   ],
   "source": [
    "fin = []\n",
    "\n",
    "for indexes in data: # Iterates through each list of indices (indexes) in the data list\n",
    "    enc = [0 for x in range(len(seq))] # Initializes a list enc of zeros with a length equal to the number of unique words in the vocabulary (seq)\n",
    "    for index in indexes:\n",
    "        # Marks the positions in the enc list with 1 for each word present in the sentence.\n",
    "        enc[index] = 1 \n",
    "    fin.append(enc) # Appends the binary encoding (enc) for the current sentence to the fin list.\n",
    "\n",
    "fin"
   ]
  },
  {
   "cell_type": "code",
   "execution_count": 6,
   "id": "2d82f21d",
   "metadata": {},
   "outputs": [
    {
     "data": {
      "text/html": [
       "<div>\n",
       "<style scoped>\n",
       "    .dataframe tbody tr th:only-of-type {\n",
       "        vertical-align: middle;\n",
       "    }\n",
       "\n",
       "    .dataframe tbody tr th {\n",
       "        vertical-align: top;\n",
       "    }\n",
       "\n",
       "    .dataframe thead th {\n",
       "        text-align: right;\n",
       "    }\n",
       "</style>\n",
       "<table border=\"1\" class=\"dataframe\">\n",
       "  <thead>\n",
       "    <tr style=\"text-align: right;\">\n",
       "      <th></th>\n",
       "      <th>is</th>\n",
       "      <th>environment</th>\n",
       "      <th>website</th>\n",
       "      <th>a</th>\n",
       "      <th>coding</th>\n",
       "      <th>good</th>\n",
       "      <th>GeeksforGeeks</th>\n",
       "      <th>Which</th>\n",
       "      <th>or</th>\n",
       "      <th>at</th>\n",
       "      <th>i</th>\n",
       "      <th>Thats</th>\n",
       "      <th>all</th>\n",
       "      <th>Not</th>\n",
       "      <th>not</th>\n",
       "      <th>bad</th>\n",
       "      <th>company</th>\n",
       "      <th>what</th>\n",
       "      <th>love</th>\n",
       "      <th>Sentances_</th>\n",
       "    </tr>\n",
       "  </thead>\n",
       "  <tbody>\n",
       "    <tr>\n",
       "      <th>0</th>\n",
       "      <td>1</td>\n",
       "      <td>0</td>\n",
       "      <td>1</td>\n",
       "      <td>1</td>\n",
       "      <td>0</td>\n",
       "      <td>0</td>\n",
       "      <td>1</td>\n",
       "      <td>0</td>\n",
       "      <td>1</td>\n",
       "      <td>0</td>\n",
       "      <td>0</td>\n",
       "      <td>0</td>\n",
       "      <td>0</td>\n",
       "      <td>0</td>\n",
       "      <td>1</td>\n",
       "      <td>0</td>\n",
       "      <td>1</td>\n",
       "      <td>0</td>\n",
       "      <td>0</td>\n",
       "      <td>GeeksforGeeks is not a website or a company.</td>\n",
       "    </tr>\n",
       "    <tr>\n",
       "      <th>1</th>\n",
       "      <td>1</td>\n",
       "      <td>1</td>\n",
       "      <td>0</td>\n",
       "      <td>1</td>\n",
       "      <td>1</td>\n",
       "      <td>0</td>\n",
       "      <td>1</td>\n",
       "      <td>0</td>\n",
       "      <td>0</td>\n",
       "      <td>0</td>\n",
       "      <td>0</td>\n",
       "      <td>0</td>\n",
       "      <td>0</td>\n",
       "      <td>0</td>\n",
       "      <td>0</td>\n",
       "      <td>0</td>\n",
       "      <td>0</td>\n",
       "      <td>0</td>\n",
       "      <td>0</td>\n",
       "      <td>GeeksforGeeks is a coding environment.</td>\n",
       "    </tr>\n",
       "    <tr>\n",
       "      <th>2</th>\n",
       "      <td>0</td>\n",
       "      <td>0</td>\n",
       "      <td>0</td>\n",
       "      <td>0</td>\n",
       "      <td>0</td>\n",
       "      <td>0</td>\n",
       "      <td>0</td>\n",
       "      <td>0</td>\n",
       "      <td>0</td>\n",
       "      <td>0</td>\n",
       "      <td>1</td>\n",
       "      <td>1</td>\n",
       "      <td>0</td>\n",
       "      <td>0</td>\n",
       "      <td>0</td>\n",
       "      <td>0</td>\n",
       "      <td>0</td>\n",
       "      <td>1</td>\n",
       "      <td>1</td>\n",
       "      <td>Thats what i love.</td>\n",
       "    </tr>\n",
       "    <tr>\n",
       "      <th>3</th>\n",
       "      <td>1</td>\n",
       "      <td>0</td>\n",
       "      <td>0</td>\n",
       "      <td>0</td>\n",
       "      <td>0</td>\n",
       "      <td>1</td>\n",
       "      <td>0</td>\n",
       "      <td>1</td>\n",
       "      <td>0</td>\n",
       "      <td>0</td>\n",
       "      <td>0</td>\n",
       "      <td>0</td>\n",
       "      <td>0</td>\n",
       "      <td>0</td>\n",
       "      <td>0</td>\n",
       "      <td>0</td>\n",
       "      <td>0</td>\n",
       "      <td>0</td>\n",
       "      <td>0</td>\n",
       "      <td>Which is good.</td>\n",
       "    </tr>\n",
       "    <tr>\n",
       "      <th>4</th>\n",
       "      <td>0</td>\n",
       "      <td>0</td>\n",
       "      <td>0</td>\n",
       "      <td>0</td>\n",
       "      <td>0</td>\n",
       "      <td>0</td>\n",
       "      <td>0</td>\n",
       "      <td>0</td>\n",
       "      <td>0</td>\n",
       "      <td>1</td>\n",
       "      <td>0</td>\n",
       "      <td>0</td>\n",
       "      <td>1</td>\n",
       "      <td>1</td>\n",
       "      <td>0</td>\n",
       "      <td>1</td>\n",
       "      <td>0</td>\n",
       "      <td>0</td>\n",
       "      <td>0</td>\n",
       "      <td>Not bad at all</td>\n",
       "    </tr>\n",
       "  </tbody>\n",
       "</table>\n",
       "</div>"
      ],
      "text/plain": [
       "   is  environment  website  a  coding  good  GeeksforGeeks  Which  or  at  i  \\\n",
       "0   1            0        1  1       0     0              1      0   1   0  0   \n",
       "1   1            1        0  1       1     0              1      0   0   0  0   \n",
       "2   0            0        0  0       0     0              0      0   0   0  1   \n",
       "3   1            0        0  0       0     1              0      1   0   0  0   \n",
       "4   0            0        0  0       0     0              0      0   0   1  0   \n",
       "\n",
       "   Thats  all  Not  not  bad  company  what  love  \\\n",
       "0      0    0    0    1    0        1     0     0   \n",
       "1      0    0    0    0    0        0     0     0   \n",
       "2      1    0    0    0    0        0     1     1   \n",
       "3      0    0    0    0    0        0     0     0   \n",
       "4      0    1    1    0    1        0     0     0   \n",
       "\n",
       "                                     Sentances_  \n",
       "0  GeeksforGeeks is not a website or a company.  \n",
       "1        GeeksforGeeks is a coding environment.  \n",
       "2                            Thats what i love.  \n",
       "3                                Which is good.  \n",
       "4                                Not bad at all  "
      ]
     },
     "execution_count": 6,
     "metadata": {},
     "output_type": "execute_result"
    }
   ],
   "source": [
    "df = pd.DataFrame(fin, columns = seq) # Creates a pandas DataFrame\n",
    "df['Sentances_'] = sent_tokenize(corpus) # Add 'Sentences_' column with tokenized sentences\n",
    "df.head()"
   ]
  },
  {
   "cell_type": "markdown",
   "id": "fb9f177e",
   "metadata": {},
   "source": [
    "### One Hot Encoding With Sklearn"
   ]
  },
  {
   "cell_type": "code",
   "execution_count": 10,
   "id": "68656d90",
   "metadata": {},
   "outputs": [],
   "source": [
    "from sklearn.preprocessing import OneHotEncoder\n",
    "import numpy as np\n",
    "import pandas as pd"
   ]
  },
  {
   "cell_type": "code",
   "execution_count": 11,
   "id": "63d17a1f",
   "metadata": {},
   "outputs": [],
   "source": [
    "encoder=OneHotEncoder()"
   ]
  },
  {
   "cell_type": "code",
   "execution_count": 12,
   "id": "e038fcde",
   "metadata": {},
   "outputs": [],
   "source": [
    "text=['i love dogs','i hate cats','i like turtles','i love the dogs']\n",
    "text=np.reshape(text,(-1,1))"
   ]
  },
  {
   "cell_type": "code",
   "execution_count": 16,
   "id": "18cd83d7",
   "metadata": {},
   "outputs": [],
   "source": [
    "encoder.fit(text)\n",
    "one_hot_text=encoder.transform(text)"
   ]
  },
  {
   "cell_type": "code",
   "execution_count": 17,
   "id": "7ae89554",
   "metadata": {},
   "outputs": [
    {
     "name": "stdout",
     "output_type": "stream",
     "text": [
      "[[0. 0. 1. 0.]\n",
      " [1. 0. 0. 0.]\n",
      " [0. 1. 0. 0.]\n",
      " [0. 0. 0. 1.]]\n"
     ]
    }
   ],
   "source": [
    "print(one_hot_text.toarray())"
   ]
  },
  {
   "cell_type": "markdown",
   "id": "9b91e291",
   "metadata": {},
   "source": [
    "#### One word at a time"
   ]
  },
  {
   "cell_type": "code",
   "execution_count": 20,
   "id": "d507bc6d",
   "metadata": {},
   "outputs": [
    {
     "data": {
      "text/html": [
       "<div>\n",
       "<style scoped>\n",
       "    .dataframe tbody tr th:only-of-type {\n",
       "        vertical-align: middle;\n",
       "    }\n",
       "\n",
       "    .dataframe tbody tr th {\n",
       "        vertical-align: top;\n",
       "    }\n",
       "\n",
       "    .dataframe thead th {\n",
       "        text-align: right;\n",
       "    }\n",
       "</style>\n",
       "<table border=\"1\" class=\"dataframe\">\n",
       "  <thead>\n",
       "    <tr style=\"text-align: right;\">\n",
       "      <th></th>\n",
       "      <th>cat</th>\n",
       "      <th>dog</th>\n",
       "      <th>fish</th>\n",
       "    </tr>\n",
       "  </thead>\n",
       "  <tbody>\n",
       "    <tr>\n",
       "      <th>0</th>\n",
       "      <td>True</td>\n",
       "      <td>False</td>\n",
       "      <td>False</td>\n",
       "    </tr>\n",
       "    <tr>\n",
       "      <th>1</th>\n",
       "      <td>False</td>\n",
       "      <td>True</td>\n",
       "      <td>False</td>\n",
       "    </tr>\n",
       "    <tr>\n",
       "      <th>2</th>\n",
       "      <td>False</td>\n",
       "      <td>False</td>\n",
       "      <td>True</td>\n",
       "    </tr>\n",
       "  </tbody>\n",
       "</table>\n",
       "</div>"
      ],
      "text/plain": [
       "     cat    dog   fish\n",
       "0   True  False  False\n",
       "1  False   True  False\n",
       "2  False  False   True"
      ]
     },
     "execution_count": 20,
     "metadata": {},
     "output_type": "execute_result"
    }
   ],
   "source": [
    "text=['cat','dog','fish']\n",
    "data=pd.get_dummies(text)\n",
    "data"
   ]
  },
  {
   "cell_type": "markdown",
   "id": "33ffceeb",
   "metadata": {},
   "source": [
    "### Bag of Words\n",
    "\n",
    "The bag of words (BoW) model is a simplified representation of text data used in natural language processing. It treats a document as an unordered set of words, ignoring grammar and word order, and focuses on word frequency. The process involves tokenization, creating a vocabulary of unique words, and generating feature vectors for documents based on word occurrences. While it loses information about word relationships, BoW is a versatile and widely used technique for tasks like text classification and sentiment analysis."
   ]
  },
  {
   "cell_type": "code",
   "execution_count": 21,
   "id": "d90aa844",
   "metadata": {},
   "outputs": [],
   "source": [
    "import pandas as pd\n",
    "\n",
    "# Initialize an empty list to store feature vectors\n",
    "feature_vectors = []\n",
    "\n",
    "# Sample text data\n",
    "word_text = [\"The is a very very cute cat\", \"The dog is very cute\"]\n",
    "\n",
    "# Tokenize the text into lists of words\n",
    "tokens = [token.split() for token in word_text]\n",
    "\n",
    "# Create a vocabulary list of unique words\n",
    "vocab = list(set([word for text in tokens for word in text]))\n",
    "\n",
    "# Iterate over each text in the tokenized list\n",
    "for text in tokens:\n",
    "    # Initialize a feature vector with zeros for each word in the vocabulary\n",
    "    feature_vector = [0] * len(vocab)\n",
    "    \n",
    "    # Iterate over each word in the text\n",
    "    for word in text:\n",
    "        # Update the feature vector based on the count of each word in the text\n",
    "        feature_vector[vocab.index(word)] = text.count(word)\n",
    "\n",
    "    # Append the feature vector to the list of feature vectors\n",
    "    feature_vectors.append(feature_vector)\n",
    "\n",
    "# Create a DataFrame with feature vectors as columns and the word_text as an additional column\n",
    "df = pd.DataFrame(feature_vectors, columns=vocab)\n",
    "df['word_corpus'] = word_text\n"
   ]
  },
  {
   "cell_type": "code",
   "execution_count": 22,
   "id": "3ab71f5b",
   "metadata": {},
   "outputs": [
    {
     "data": {
      "text/html": [
       "<div>\n",
       "<style scoped>\n",
       "    .dataframe tbody tr th:only-of-type {\n",
       "        vertical-align: middle;\n",
       "    }\n",
       "\n",
       "    .dataframe tbody tr th {\n",
       "        vertical-align: top;\n",
       "    }\n",
       "\n",
       "    .dataframe thead th {\n",
       "        text-align: right;\n",
       "    }\n",
       "</style>\n",
       "<table border=\"1\" class=\"dataframe\">\n",
       "  <thead>\n",
       "    <tr style=\"text-align: right;\">\n",
       "      <th></th>\n",
       "      <th>is</th>\n",
       "      <th>cute</th>\n",
       "      <th>a</th>\n",
       "      <th>The</th>\n",
       "      <th>very</th>\n",
       "      <th>cat</th>\n",
       "      <th>dog</th>\n",
       "      <th>word_corpus</th>\n",
       "    </tr>\n",
       "  </thead>\n",
       "  <tbody>\n",
       "    <tr>\n",
       "      <th>0</th>\n",
       "      <td>1</td>\n",
       "      <td>1</td>\n",
       "      <td>1</td>\n",
       "      <td>1</td>\n",
       "      <td>2</td>\n",
       "      <td>1</td>\n",
       "      <td>0</td>\n",
       "      <td>The is a very very cute cat</td>\n",
       "    </tr>\n",
       "    <tr>\n",
       "      <th>1</th>\n",
       "      <td>1</td>\n",
       "      <td>1</td>\n",
       "      <td>0</td>\n",
       "      <td>1</td>\n",
       "      <td>1</td>\n",
       "      <td>0</td>\n",
       "      <td>1</td>\n",
       "      <td>The dog is very cute</td>\n",
       "    </tr>\n",
       "  </tbody>\n",
       "</table>\n",
       "</div>"
      ],
      "text/plain": [
       "   is  cute  a  The  very  cat  dog                  word_corpus\n",
       "0   1     1  1    1     2    1    0  The is a very very cute cat\n",
       "1   1     1  0    1     1    0    1         The dog is very cute"
      ]
     },
     "execution_count": 22,
     "metadata": {},
     "output_type": "execute_result"
    }
   ],
   "source": [
    "df"
   ]
  },
  {
   "cell_type": "markdown",
   "id": "11022cbe",
   "metadata": {},
   "source": [
    "### Binary Bag of Words:\n",
    "A binary bag-of-words (BoW) representation is a way to represent text data in natural language processing. In this model, each document is transformed into a binary vector, where each element indicates the presence (1) or absence (0) of a specific word from a predefined vocabulary. This representation simplifies information by focusing on word presence, making it useful for tasks like text classification and information retrieval where the emphasis is on identifying relevant terms rather than their frequency. It is similar to one-hot encoding, another technique used in NLP, where each word is represented by a vector with a single \"1\" at the index corresponding to its position in the vocabulary. Both methods capture the categorical nature of words in a document without considering their frequency."
   ]
  },
  {
   "cell_type": "code",
   "execution_count": 23,
   "id": "c5ae7d39",
   "metadata": {},
   "outputs": [
    {
     "data": {
      "text/html": [
       "<div>\n",
       "<style scoped>\n",
       "    .dataframe tbody tr th:only-of-type {\n",
       "        vertical-align: middle;\n",
       "    }\n",
       "\n",
       "    .dataframe tbody tr th {\n",
       "        vertical-align: top;\n",
       "    }\n",
       "\n",
       "    .dataframe thead th {\n",
       "        text-align: right;\n",
       "    }\n",
       "</style>\n",
       "<table border=\"1\" class=\"dataframe\">\n",
       "  <thead>\n",
       "    <tr style=\"text-align: right;\">\n",
       "      <th></th>\n",
       "      <th>is</th>\n",
       "      <th>cute</th>\n",
       "      <th>a</th>\n",
       "      <th>The</th>\n",
       "      <th>very</th>\n",
       "      <th>cat</th>\n",
       "      <th>dog</th>\n",
       "      <th>word_corpus</th>\n",
       "    </tr>\n",
       "  </thead>\n",
       "  <tbody>\n",
       "    <tr>\n",
       "      <th>0</th>\n",
       "      <td>1</td>\n",
       "      <td>1</td>\n",
       "      <td>1</td>\n",
       "      <td>1</td>\n",
       "      <td>1</td>\n",
       "      <td>1</td>\n",
       "      <td>0</td>\n",
       "      <td>The is a very very cute cat</td>\n",
       "    </tr>\n",
       "    <tr>\n",
       "      <th>1</th>\n",
       "      <td>1</td>\n",
       "      <td>1</td>\n",
       "      <td>0</td>\n",
       "      <td>1</td>\n",
       "      <td>1</td>\n",
       "      <td>0</td>\n",
       "      <td>1</td>\n",
       "      <td>The dog is very cute</td>\n",
       "    </tr>\n",
       "  </tbody>\n",
       "</table>\n",
       "</div>"
      ],
      "text/plain": [
       "   is  cute  a  The  very  cat  dog                  word_corpus\n",
       "0   1     1  1    1     1    1    0  The is a very very cute cat\n",
       "1   1     1  0    1     1    0    1         The dog is very cute"
      ]
     },
     "execution_count": 23,
     "metadata": {},
     "output_type": "execute_result"
    }
   ],
   "source": [
    "import pandas as pd\n",
    "\n",
    "# Initialize an empty list to store feature vectors\n",
    "feature_vectors = []\n",
    "\n",
    "# Sample text data\n",
    "word_text = [\"The is a very very cute cat\", \"The dog is very cute\"]\n",
    "\n",
    "# Tokenize the text into lists of words\n",
    "tokens = [token.split() for token in word_text]\n",
    "\n",
    "# Create a vocabulary list of unique words\n",
    "vocab = list(set([word for text in tokens for word in text]))\n",
    "\n",
    "# Iterate over each text in the tokenized list\n",
    "for text in tokens:\n",
    "    # Initialize a feature vector with zeros for each word in the vocabulary\n",
    "    feature_vector = [0] * len(vocab)\n",
    "    \n",
    "    # Iterate over each word in the text\n",
    "    for word in text:\n",
    "        # Check if the word is in the vocabulary\n",
    "        if word in vocab:\n",
    "            # Update the feature vector to indicate the presence of the word\n",
    "            feature_vector[vocab.index(word)] = 1\n",
    "\n",
    "    # Append the feature vector to the list of feature vectors\n",
    "    feature_vectors.append(feature_vector)\n",
    "\n",
    "# Create a DataFrame with feature vectors as columns and the word_text as an additional column\n",
    "df = pd.DataFrame(feature_vectors, columns=vocab)\n",
    "df['word_corpus'] = word_text\n",
    "df"
   ]
  },
  {
   "cell_type": "markdown",
   "id": "a1ab2bdb",
   "metadata": {},
   "source": [
    "### Count Vectorizer"
   ]
  },
  {
   "cell_type": "code",
   "execution_count": 24,
   "id": "8c3c4273",
   "metadata": {},
   "outputs": [],
   "source": [
    "text_data = [\n",
    "    \"GFG is providing a new Deep Learning Course which is really good\",\n",
    "    \"We will be studying Deep Learning from today\",\n",
    "    \"I want a Deep sleep today\"\n",
    "]"
   ]
  },
  {
   "cell_type": "code",
   "execution_count": 26,
   "id": "c8f8c7bf",
   "metadata": {},
   "outputs": [],
   "source": [
    "from sklearn.feature_extraction.text import CountVectorizer"
   ]
  },
  {
   "cell_type": "code",
   "execution_count": 27,
   "id": "1ed53f95",
   "metadata": {},
   "outputs": [],
   "source": [
    "vec=CountVectorizer()"
   ]
  },
  {
   "cell_type": "code",
   "execution_count": 28,
   "id": "040df833",
   "metadata": {},
   "outputs": [
    {
     "name": "stdout",
     "output_type": "stream",
     "text": [
      "[[0 1 1 0 1 1 2 1 1 1 1 0 0 0 0 0 1 0]\n",
      " [1 0 1 1 0 0 0 1 0 0 0 0 1 1 0 1 0 1]\n",
      " [0 0 1 0 0 0 0 0 0 0 0 1 0 1 1 0 0 0]]\n"
     ]
    }
   ],
   "source": [
    "trs=vec.fit_transform(text_data)\n",
    "print(trs.toarray())"
   ]
  },
  {
   "cell_type": "code",
   "execution_count": 29,
   "id": "b33ea428",
   "metadata": {},
   "outputs": [],
   "source": [
    "df=pd.DataFrame(trs.toarray(),columns=vec.vocabulary_)"
   ]
  },
  {
   "cell_type": "code",
   "execution_count": 30,
   "id": "01a3b87c",
   "metadata": {},
   "outputs": [
    {
     "data": {
      "text/html": [
       "<div>\n",
       "<style scoped>\n",
       "    .dataframe tbody tr th:only-of-type {\n",
       "        vertical-align: middle;\n",
       "    }\n",
       "\n",
       "    .dataframe tbody tr th {\n",
       "        vertical-align: top;\n",
       "    }\n",
       "\n",
       "    .dataframe thead th {\n",
       "        text-align: right;\n",
       "    }\n",
       "</style>\n",
       "<table border=\"1\" class=\"dataframe\">\n",
       "  <thead>\n",
       "    <tr style=\"text-align: right;\">\n",
       "      <th></th>\n",
       "      <th>gfg</th>\n",
       "      <th>is</th>\n",
       "      <th>providing</th>\n",
       "      <th>new</th>\n",
       "      <th>deep</th>\n",
       "      <th>learning</th>\n",
       "      <th>course</th>\n",
       "      <th>which</th>\n",
       "      <th>really</th>\n",
       "      <th>good</th>\n",
       "      <th>we</th>\n",
       "      <th>will</th>\n",
       "      <th>be</th>\n",
       "      <th>studying</th>\n",
       "      <th>from</th>\n",
       "      <th>today</th>\n",
       "      <th>want</th>\n",
       "      <th>sleep</th>\n",
       "    </tr>\n",
       "  </thead>\n",
       "  <tbody>\n",
       "    <tr>\n",
       "      <th>0</th>\n",
       "      <td>0</td>\n",
       "      <td>1</td>\n",
       "      <td>1</td>\n",
       "      <td>0</td>\n",
       "      <td>1</td>\n",
       "      <td>1</td>\n",
       "      <td>2</td>\n",
       "      <td>1</td>\n",
       "      <td>1</td>\n",
       "      <td>1</td>\n",
       "      <td>1</td>\n",
       "      <td>0</td>\n",
       "      <td>0</td>\n",
       "      <td>0</td>\n",
       "      <td>0</td>\n",
       "      <td>0</td>\n",
       "      <td>1</td>\n",
       "      <td>0</td>\n",
       "    </tr>\n",
       "    <tr>\n",
       "      <th>1</th>\n",
       "      <td>1</td>\n",
       "      <td>0</td>\n",
       "      <td>1</td>\n",
       "      <td>1</td>\n",
       "      <td>0</td>\n",
       "      <td>0</td>\n",
       "      <td>0</td>\n",
       "      <td>1</td>\n",
       "      <td>0</td>\n",
       "      <td>0</td>\n",
       "      <td>0</td>\n",
       "      <td>0</td>\n",
       "      <td>1</td>\n",
       "      <td>1</td>\n",
       "      <td>0</td>\n",
       "      <td>1</td>\n",
       "      <td>0</td>\n",
       "      <td>1</td>\n",
       "    </tr>\n",
       "    <tr>\n",
       "      <th>2</th>\n",
       "      <td>0</td>\n",
       "      <td>0</td>\n",
       "      <td>1</td>\n",
       "      <td>0</td>\n",
       "      <td>0</td>\n",
       "      <td>0</td>\n",
       "      <td>0</td>\n",
       "      <td>0</td>\n",
       "      <td>0</td>\n",
       "      <td>0</td>\n",
       "      <td>0</td>\n",
       "      <td>1</td>\n",
       "      <td>0</td>\n",
       "      <td>1</td>\n",
       "      <td>1</td>\n",
       "      <td>0</td>\n",
       "      <td>0</td>\n",
       "      <td>0</td>\n",
       "    </tr>\n",
       "  </tbody>\n",
       "</table>\n",
       "</div>"
      ],
      "text/plain": [
       "   gfg  is  providing  new  deep  learning  course  which  really  good  we  \\\n",
       "0    0   1          1    0     1         1       2      1       1     1   1   \n",
       "1    1   0          1    1     0         0       0      1       0     0   0   \n",
       "2    0   0          1    0     0         0       0      0       0     0   0   \n",
       "\n",
       "   will  be  studying  from  today  want  sleep  \n",
       "0     0   0         0     0      0     1      0  \n",
       "1     0   1         1     0      1     0      1  \n",
       "2     1   0         1     1      0     0      0  "
      ]
     },
     "execution_count": 30,
     "metadata": {},
     "output_type": "execute_result"
    }
   ],
   "source": [
    "df"
   ]
  },
  {
   "cell_type": "markdown",
   "id": "c8b0a59d",
   "metadata": {},
   "source": [
    "#### Dealing with stopwords in Count Vectorizer"
   ]
  },
  {
   "cell_type": "code",
   "execution_count": 31,
   "id": "b0860a60",
   "metadata": {},
   "outputs": [],
   "source": [
    "vec=CountVectorizer(stop_words='english')"
   ]
  },
  {
   "cell_type": "code",
   "execution_count": 32,
   "id": "48379825",
   "metadata": {},
   "outputs": [
    {
     "name": "stdout",
     "output_type": "stream",
     "text": [
      "[[1 1 1 1 1 1 1 1 0 0 0 0]\n",
      " [0 1 0 0 1 0 0 0 0 1 1 0]\n",
      " [0 1 0 0 0 0 0 0 1 0 1 1]]\n"
     ]
    }
   ],
   "source": [
    "trs=vec.fit_transform(text_data,)\n",
    "print(trs.toarray())"
   ]
  },
  {
   "cell_type": "code",
   "execution_count": 33,
   "id": "3f373ef8",
   "metadata": {},
   "outputs": [
    {
     "data": {
      "text/html": [
       "<div>\n",
       "<style scoped>\n",
       "    .dataframe tbody tr th:only-of-type {\n",
       "        vertical-align: middle;\n",
       "    }\n",
       "\n",
       "    .dataframe tbody tr th {\n",
       "        vertical-align: top;\n",
       "    }\n",
       "\n",
       "    .dataframe thead th {\n",
       "        text-align: right;\n",
       "    }\n",
       "</style>\n",
       "<table border=\"1\" class=\"dataframe\">\n",
       "  <thead>\n",
       "    <tr style=\"text-align: right;\">\n",
       "      <th></th>\n",
       "      <th>gfg</th>\n",
       "      <th>providing</th>\n",
       "      <th>new</th>\n",
       "      <th>deep</th>\n",
       "      <th>learning</th>\n",
       "      <th>course</th>\n",
       "      <th>really</th>\n",
       "      <th>good</th>\n",
       "      <th>studying</th>\n",
       "      <th>today</th>\n",
       "      <th>want</th>\n",
       "      <th>sleep</th>\n",
       "    </tr>\n",
       "  </thead>\n",
       "  <tbody>\n",
       "    <tr>\n",
       "      <th>0</th>\n",
       "      <td>1</td>\n",
       "      <td>1</td>\n",
       "      <td>1</td>\n",
       "      <td>1</td>\n",
       "      <td>1</td>\n",
       "      <td>1</td>\n",
       "      <td>1</td>\n",
       "      <td>1</td>\n",
       "      <td>0</td>\n",
       "      <td>0</td>\n",
       "      <td>0</td>\n",
       "      <td>0</td>\n",
       "    </tr>\n",
       "    <tr>\n",
       "      <th>1</th>\n",
       "      <td>0</td>\n",
       "      <td>1</td>\n",
       "      <td>0</td>\n",
       "      <td>0</td>\n",
       "      <td>1</td>\n",
       "      <td>0</td>\n",
       "      <td>0</td>\n",
       "      <td>0</td>\n",
       "      <td>0</td>\n",
       "      <td>1</td>\n",
       "      <td>1</td>\n",
       "      <td>0</td>\n",
       "    </tr>\n",
       "    <tr>\n",
       "      <th>2</th>\n",
       "      <td>0</td>\n",
       "      <td>1</td>\n",
       "      <td>0</td>\n",
       "      <td>0</td>\n",
       "      <td>0</td>\n",
       "      <td>0</td>\n",
       "      <td>0</td>\n",
       "      <td>0</td>\n",
       "      <td>1</td>\n",
       "      <td>0</td>\n",
       "      <td>1</td>\n",
       "      <td>1</td>\n",
       "    </tr>\n",
       "  </tbody>\n",
       "</table>\n",
       "</div>"
      ],
      "text/plain": [
       "   gfg  providing  new  deep  learning  course  really  good  studying  today  \\\n",
       "0    1          1    1     1         1       1       1     1         0      0   \n",
       "1    0          1    0     0         1       0       0     0         0      1   \n",
       "2    0          1    0     0         0       0       0     0         1      0   \n",
       "\n",
       "   want  sleep  \n",
       "0     0      0  \n",
       "1     1      0  \n",
       "2     1      1  "
      ]
     },
     "execution_count": 33,
     "metadata": {},
     "output_type": "execute_result"
    }
   ],
   "source": [
    "df=pd.DataFrame(trs.toarray(),columns=vec.vocabulary_)\n",
    "df"
   ]
  },
  {
   "cell_type": "markdown",
   "id": "e2691885",
   "metadata": {},
   "source": [
    "#### Dealing with N-Gram in Count Vectorizer"
   ]
  },
  {
   "cell_type": "code",
   "execution_count": 34,
   "id": "0d387dce",
   "metadata": {},
   "outputs": [],
   "source": [
    "vec=CountVectorizer(ngram_range=(2,3))"
   ]
  },
  {
   "cell_type": "code",
   "execution_count": 35,
   "id": "87fef70b",
   "metadata": {},
   "outputs": [
    {
     "name": "stdout",
     "output_type": "stream",
     "text": [
      "[[0 0 1 1 1 1 0 0 0 0 1 1 1 1 1 1 1 1 0 0 1 1 1 1 1 0 0 0 0 0 0 0 1 1 0 0]\n",
      " [1 1 0 0 1 0 1 0 0 1 0 0 0 0 0 0 0 0 1 1 0 0 0 0 0 0 1 1 0 0 1 1 0 0 1 1]\n",
      " [0 0 0 0 0 0 0 1 1 0 0 0 0 0 0 0 0 0 0 0 0 0 0 0 0 1 0 0 1 1 0 0 0 0 0 0]]\n"
     ]
    }
   ],
   "source": [
    "trs=vec.fit_transform(text_data,)\n",
    "print(trs.toarray())"
   ]
  },
  {
   "cell_type": "code",
   "execution_count": 36,
   "id": "c9338c96",
   "metadata": {},
   "outputs": [
    {
     "data": {
      "text/html": [
       "<div>\n",
       "<style scoped>\n",
       "    .dataframe tbody tr th:only-of-type {\n",
       "        vertical-align: middle;\n",
       "    }\n",
       "\n",
       "    .dataframe tbody tr th {\n",
       "        vertical-align: top;\n",
       "    }\n",
       "\n",
       "    .dataframe thead th {\n",
       "        text-align: right;\n",
       "    }\n",
       "</style>\n",
       "<table border=\"1\" class=\"dataframe\">\n",
       "  <thead>\n",
       "    <tr style=\"text-align: right;\">\n",
       "      <th></th>\n",
       "      <th>gfg is</th>\n",
       "      <th>is providing</th>\n",
       "      <th>providing new</th>\n",
       "      <th>new deep</th>\n",
       "      <th>deep learning</th>\n",
       "      <th>learning course</th>\n",
       "      <th>course which</th>\n",
       "      <th>which is</th>\n",
       "      <th>is really</th>\n",
       "      <th>really good</th>\n",
       "      <th>...</th>\n",
       "      <th>will be studying</th>\n",
       "      <th>be studying deep</th>\n",
       "      <th>studying deep learning</th>\n",
       "      <th>deep learning from</th>\n",
       "      <th>learning from today</th>\n",
       "      <th>want deep</th>\n",
       "      <th>deep sleep</th>\n",
       "      <th>sleep today</th>\n",
       "      <th>want deep sleep</th>\n",
       "      <th>deep sleep today</th>\n",
       "    </tr>\n",
       "  </thead>\n",
       "  <tbody>\n",
       "    <tr>\n",
       "      <th>0</th>\n",
       "      <td>0</td>\n",
       "      <td>0</td>\n",
       "      <td>1</td>\n",
       "      <td>1</td>\n",
       "      <td>1</td>\n",
       "      <td>1</td>\n",
       "      <td>0</td>\n",
       "      <td>0</td>\n",
       "      <td>0</td>\n",
       "      <td>0</td>\n",
       "      <td>...</td>\n",
       "      <td>0</td>\n",
       "      <td>0</td>\n",
       "      <td>0</td>\n",
       "      <td>0</td>\n",
       "      <td>0</td>\n",
       "      <td>0</td>\n",
       "      <td>1</td>\n",
       "      <td>1</td>\n",
       "      <td>0</td>\n",
       "      <td>0</td>\n",
       "    </tr>\n",
       "    <tr>\n",
       "      <th>1</th>\n",
       "      <td>1</td>\n",
       "      <td>1</td>\n",
       "      <td>0</td>\n",
       "      <td>0</td>\n",
       "      <td>1</td>\n",
       "      <td>0</td>\n",
       "      <td>1</td>\n",
       "      <td>0</td>\n",
       "      <td>0</td>\n",
       "      <td>1</td>\n",
       "      <td>...</td>\n",
       "      <td>1</td>\n",
       "      <td>1</td>\n",
       "      <td>0</td>\n",
       "      <td>0</td>\n",
       "      <td>1</td>\n",
       "      <td>1</td>\n",
       "      <td>0</td>\n",
       "      <td>0</td>\n",
       "      <td>1</td>\n",
       "      <td>1</td>\n",
       "    </tr>\n",
       "    <tr>\n",
       "      <th>2</th>\n",
       "      <td>0</td>\n",
       "      <td>0</td>\n",
       "      <td>0</td>\n",
       "      <td>0</td>\n",
       "      <td>0</td>\n",
       "      <td>0</td>\n",
       "      <td>0</td>\n",
       "      <td>1</td>\n",
       "      <td>1</td>\n",
       "      <td>0</td>\n",
       "      <td>...</td>\n",
       "      <td>0</td>\n",
       "      <td>0</td>\n",
       "      <td>1</td>\n",
       "      <td>1</td>\n",
       "      <td>0</td>\n",
       "      <td>0</td>\n",
       "      <td>0</td>\n",
       "      <td>0</td>\n",
       "      <td>0</td>\n",
       "      <td>0</td>\n",
       "    </tr>\n",
       "  </tbody>\n",
       "</table>\n",
       "<p>3 rows × 36 columns</p>\n",
       "</div>"
      ],
      "text/plain": [
       "   gfg is  is providing  providing new  new deep  deep learning  \\\n",
       "0       0             0              1         1              1   \n",
       "1       1             1              0         0              1   \n",
       "2       0             0              0         0              0   \n",
       "\n",
       "   learning course  course which  which is  is really  really good  ...  \\\n",
       "0                1             0         0          0            0  ...   \n",
       "1                0             1         0          0            1  ...   \n",
       "2                0             0         1          1            0  ...   \n",
       "\n",
       "   will be studying  be studying deep  studying deep learning  \\\n",
       "0                 0                 0                       0   \n",
       "1                 1                 1                       0   \n",
       "2                 0                 0                       1   \n",
       "\n",
       "   deep learning from  learning from today  want deep  deep sleep  \\\n",
       "0                   0                    0          0           1   \n",
       "1                   0                    1          1           0   \n",
       "2                   1                    0          0           0   \n",
       "\n",
       "   sleep today  want deep sleep  deep sleep today  \n",
       "0            1                0                 0  \n",
       "1            0                1                 1  \n",
       "2            0                0                 0  \n",
       "\n",
       "[3 rows x 36 columns]"
      ]
     },
     "execution_count": 36,
     "metadata": {},
     "output_type": "execute_result"
    }
   ],
   "source": [
    "df=pd.DataFrame(trs.toarray(),columns=vec.vocabulary_)\n",
    "df"
   ]
  },
  {
   "cell_type": "code",
   "execution_count": null,
   "id": "6da9916e",
   "metadata": {},
   "outputs": [],
   "source": []
  }
 ],
 "metadata": {
  "kernelspec": {
   "display_name": "Python 3 (ipykernel)",
   "language": "python",
   "name": "python3"
  },
  "language_info": {
   "codemirror_mode": {
    "name": "ipython",
    "version": 3
   },
   "file_extension": ".py",
   "mimetype": "text/x-python",
   "name": "python",
   "nbconvert_exporter": "python",
   "pygments_lexer": "ipython3",
   "version": "3.11.5"
  }
 },
 "nbformat": 4,
 "nbformat_minor": 5
}
