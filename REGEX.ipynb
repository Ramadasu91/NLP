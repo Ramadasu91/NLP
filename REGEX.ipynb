{
 "cells": [
  {
   "cell_type": "markdown",
   "id": "c4edcc8a",
   "metadata": {},
   "source": [
    "### Getting started with Regex"
   ]
  },
  {
   "cell_type": "code",
   "execution_count": 1,
   "id": "75b23837",
   "metadata": {},
   "outputs": [],
   "source": [
    "import re"
   ]
  },
  {
   "cell_type": "code",
   "execution_count": 2,
   "id": "7f348757",
   "metadata": {},
   "outputs": [],
   "source": [
    "txt='Hello, how are you'"
   ]
  },
  {
   "cell_type": "markdown",
   "id": "18db7f46",
   "metadata": {},
   "source": [
    "#### Search Method"
   ]
  },
  {
   "cell_type": "code",
   "execution_count": 6,
   "id": "e59dde35",
   "metadata": {},
   "outputs": [
    {
     "data": {
      "text/plain": [
       "<re.Match object; span=(15, 18), match='you'>"
      ]
     },
     "execution_count": 6,
     "metadata": {},
     "output_type": "execute_result"
    }
   ],
   "source": [
    "srh=re.search('you',txt)\n",
    "srh"
   ]
  },
  {
   "cell_type": "code",
   "execution_count": 7,
   "id": "b6139b68",
   "metadata": {},
   "outputs": [
    {
     "data": {
      "text/plain": [
       "(15, 18)"
      ]
     },
     "execution_count": 7,
     "metadata": {},
     "output_type": "execute_result"
    }
   ],
   "source": [
    "srh.span()"
   ]
  },
  {
   "cell_type": "code",
   "execution_count": 8,
   "id": "143db256",
   "metadata": {},
   "outputs": [
    {
     "data": {
      "text/plain": [
       "15"
      ]
     },
     "execution_count": 8,
     "metadata": {},
     "output_type": "execute_result"
    }
   ],
   "source": [
    "srh.start()"
   ]
  },
  {
   "cell_type": "code",
   "execution_count": 9,
   "id": "dc3bf71a",
   "metadata": {},
   "outputs": [
    {
     "data": {
      "text/plain": [
       "18"
      ]
     },
     "execution_count": 9,
     "metadata": {},
     "output_type": "execute_result"
    }
   ],
   "source": [
    "srh.end()"
   ]
  },
  {
   "cell_type": "code",
   "execution_count": 10,
   "id": "52ac603f",
   "metadata": {},
   "outputs": [],
   "source": [
    "txt='Hello, how are are you'"
   ]
  },
  {
   "cell_type": "markdown",
   "id": "1311d9b4",
   "metadata": {},
   "source": [
    "#### Findall Method"
   ]
  },
  {
   "cell_type": "code",
   "execution_count": 11,
   "id": "93ed4a7e",
   "metadata": {},
   "outputs": [
    {
     "data": {
      "text/plain": [
       "['are', 'are']"
      ]
     },
     "execution_count": 11,
     "metadata": {},
     "output_type": "execute_result"
    }
   ],
   "source": [
    "re.findall('are',txt)"
   ]
  },
  {
   "cell_type": "markdown",
   "id": "2b404385",
   "metadata": {},
   "source": [
    "#### Finditer Method"
   ]
  },
  {
   "cell_type": "code",
   "execution_count": 12,
   "id": "835f367b",
   "metadata": {},
   "outputs": [
    {
     "name": "stdout",
     "output_type": "stream",
     "text": [
      "(11, 14)\n",
      "(15, 18)\n"
     ]
    }
   ],
   "source": [
    "for s in re.finditer('are',txt):\n",
    "    print(s.span())"
   ]
  },
  {
   "cell_type": "markdown",
   "id": "0981e7d4",
   "metadata": {},
   "source": [
    "### Creating Regular expressions"
   ]
  },
  {
   "cell_type": "markdown",
   "id": "a61b341d",
   "metadata": {},
   "source": [
    "##### \\s: matches any whitespace characters such as space and tab.\n",
    "##### \\S: matches any non-whitespace characters.\n",
    "##### \\d: matches any digit character.\n",
    "##### \\D: matches any non-digit characters.\n",
    "##### \\w : matches any word character (basically alpha-numeric)\n",
    "##### \\W: matches any non-word character.\n",
    "##### \\b: matches any word boundary (this would include spaces, dashes, commas, semi-colons, etc.\n",
    "##### [set_of_characters] : Match any single character in set_of_characters. By default, the match is case-sensitive."
   ]
  },
  {
   "cell_type": "code",
   "execution_count": 13,
   "id": "85c11315",
   "metadata": {},
   "outputs": [],
   "source": [
    "txt='my phn num is 2348876545'"
   ]
  },
  {
   "cell_type": "code",
   "execution_count": 14,
   "id": "c4dd58ac",
   "metadata": {},
   "outputs": [],
   "source": [
    "pattern='\\d\\d\\d\\d\\d\\d\\d\\d\\d\\d'"
   ]
  },
  {
   "cell_type": "code",
   "execution_count": 17,
   "id": "642aef36",
   "metadata": {},
   "outputs": [
    {
     "data": {
      "text/plain": [
       "'2348876545'"
      ]
     },
     "execution_count": 17,
     "metadata": {},
     "output_type": "execute_result"
    }
   ],
   "source": [
    "re.search(pattern,txt).group()"
   ]
  },
  {
   "cell_type": "code",
   "execution_count": 18,
   "id": "bc8cb036",
   "metadata": {},
   "outputs": [],
   "source": [
    "txt='my phn num is 234-8876-545'"
   ]
  },
  {
   "cell_type": "code",
   "execution_count": 19,
   "id": "3984d5a5",
   "metadata": {},
   "outputs": [],
   "source": [
    "pattern='\\d\\d\\d-\\d\\d\\d\\d-\\d\\d\\d'"
   ]
  },
  {
   "cell_type": "code",
   "execution_count": 20,
   "id": "d3ed13b4",
   "metadata": {},
   "outputs": [
    {
     "data": {
      "text/plain": [
       "'234-8876-545'"
      ]
     },
     "execution_count": 20,
     "metadata": {},
     "output_type": "execute_result"
    }
   ],
   "source": [
    "re.search(pattern,txt).group()"
   ]
  },
  {
   "cell_type": "code",
   "execution_count": 21,
   "id": "cca381b6",
   "metadata": {},
   "outputs": [],
   "source": [
    "pattern='\\w\\w'"
   ]
  },
  {
   "cell_type": "code",
   "execution_count": 22,
   "id": "3058f415",
   "metadata": {},
   "outputs": [
    {
     "data": {
      "text/plain": [
       "'my'"
      ]
     },
     "execution_count": 22,
     "metadata": {},
     "output_type": "execute_result"
    }
   ],
   "source": [
    "re.search(pattern,txt).group()"
   ]
  },
  {
   "cell_type": "markdown",
   "id": "6a655e01",
   "metadata": {},
   "source": [
    "### Pattern Matching with Alphanumeric"
   ]
  },
  {
   "cell_type": "markdown",
   "id": "c4a477ee",
   "metadata": {},
   "source": [
    "#### pattern with specific length or ending"
   ]
  },
  {
   "cell_type": "code",
   "execution_count": 23,
   "id": "5087abc1",
   "metadata": {},
   "outputs": [
    {
     "data": {
      "text/plain": [
       "['at', 'at', 'at', 'at', 'at']"
      ]
     },
     "execution_count": 23,
     "metadata": {},
     "output_type": "execute_result"
    }
   ],
   "source": [
    "re.findall('at','the rat sat on the mat and attached by a cat')"
   ]
  },
  {
   "cell_type": "code",
   "execution_count": 26,
   "id": "536e4146",
   "metadata": {},
   "outputs": [
    {
     "data": {
      "text/plain": [
       "['rat', 'sat', 'mat', ' at', 'cat']"
      ]
     },
     "execution_count": 26,
     "metadata": {},
     "output_type": "execute_result"
    }
   ],
   "source": [
    "re.findall('.at','the rat sat on the mat and attached by a cat')"
   ]
  },
  {
   "cell_type": "markdown",
   "id": "fa142d67",
   "metadata": {},
   "source": [
    "#### start,end pattern match"
   ]
  },
  {
   "cell_type": "code",
   "execution_count": 27,
   "id": "cb57b5e3",
   "metadata": {},
   "outputs": [
    {
     "data": {
      "text/plain": [
       "['4']"
      ]
     },
     "execution_count": 27,
     "metadata": {},
     "output_type": "execute_result"
    }
   ],
   "source": [
    "re.findall('\\d$','the number is 4')"
   ]
  },
  {
   "cell_type": "code",
   "execution_count": 29,
   "id": "79512e99",
   "metadata": {},
   "outputs": [
    {
     "data": {
      "text/plain": [
       "['3']"
      ]
     },
     "execution_count": 29,
     "metadata": {},
     "output_type": "execute_result"
    }
   ],
   "source": [
    "re.findall('^\\d','3 is the num')"
   ]
  },
  {
   "cell_type": "markdown",
   "id": "aa67a485",
   "metadata": {},
   "source": [
    "#### finding Uppercase ,Lowercase letters and numbers"
   ]
  },
  {
   "cell_type": "code",
   "execution_count": 30,
   "id": "cceebed8",
   "metadata": {},
   "outputs": [
    {
     "data": {
      "text/plain": [
       "['W', 'G', 'F', 'G']"
      ]
     },
     "execution_count": 30,
     "metadata": {},
     "output_type": "execute_result"
    }
   ],
   "source": [
    "re.findall('[A-Z]','Welcome to GFG')"
   ]
  },
  {
   "cell_type": "code",
   "execution_count": 31,
   "id": "0a35db07",
   "metadata": {},
   "outputs": [
    {
     "data": {
      "text/plain": [
       "['e', 'l', 'c', 'o', 'm', 'e', 't', 'o']"
      ]
     },
     "execution_count": 31,
     "metadata": {},
     "output_type": "execute_result"
    }
   ],
   "source": [
    "re.findall('[a-z]','Welcome to GFG')"
   ]
  },
  {
   "cell_type": "code",
   "execution_count": 32,
   "id": "3e33dba7",
   "metadata": {},
   "outputs": [
    {
     "data": {
      "text/plain": [
       "['W', 'e', 'l', 'c', 'o', 'm', 'e', 't', 'o', 'G', 'F', 'G']"
      ]
     },
     "execution_count": 32,
     "metadata": {},
     "output_type": "execute_result"
    }
   ],
   "source": [
    "re.findall('[A-Za-z]','Welcome to GFG')"
   ]
  },
  {
   "cell_type": "code",
   "execution_count": 33,
   "id": "fd20f4b7",
   "metadata": {},
   "outputs": [
    {
     "data": {
      "text/plain": [
       "['W', 'e', 'l', 'c', 'o', 'm', 'e', 't', 'o', 'G', 'F', 'G', '5']"
      ]
     },
     "execution_count": 33,
     "metadata": {},
     "output_type": "execute_result"
    }
   ],
   "source": [
    "re.findall('[A-Za-z0-9]','Welcome to GFG 5')"
   ]
  },
  {
   "cell_type": "markdown",
   "id": "c296e2b7",
   "metadata": {},
   "source": [
    "### Text Preprocessing with RE"
   ]
  },
  {
   "cell_type": "code",
   "execution_count": 40,
   "id": "542ace53",
   "metadata": {},
   "outputs": [
    {
     "data": {
      "text/plain": [
       "['the', ' sdfgh', ' fgh ']"
      ]
     },
     "execution_count": 40,
     "metadata": {},
     "output_type": "execute_result"
    }
   ],
   "source": [
    "re.findall('[^@*%]+','the@ sdfgh* fgh %')"
   ]
  },
  {
   "cell_type": "code",
   "execution_count": 46,
   "id": "25838022",
   "metadata": {},
   "outputs": [
    {
     "data": {
      "text/plain": [
       "'the sdfgh fgh '"
      ]
     },
     "execution_count": 46,
     "metadata": {},
     "output_type": "execute_result"
    }
   ],
   "source": [
    "''.join(re.findall('[^@*%]+','the@ sdfgh* fgh %'))"
   ]
  },
  {
   "cell_type": "markdown",
   "id": "d67ede5f",
   "metadata": {},
   "source": [
    "#### Excluding digits using \\D"
   ]
  },
  {
   "cell_type": "code",
   "execution_count": 48,
   "id": "7623014c",
   "metadata": {},
   "outputs": [],
   "source": [
    "txt='i am 24'"
   ]
  },
  {
   "cell_type": "code",
   "execution_count": 51,
   "id": "9c39c0d2",
   "metadata": {},
   "outputs": [
    {
     "data": {
      "text/plain": [
       "'i am '"
      ]
     },
     "execution_count": 51,
     "metadata": {},
     "output_type": "execute_result"
    }
   ],
   "source": [
    "''.join(re.findall('\\D',txt))"
   ]
  },
  {
   "cell_type": "markdown",
   "id": "802f3862",
   "metadata": {},
   "source": [
    "#### finding patterns like Geeks-for-geeks"
   ]
  },
  {
   "cell_type": "code",
   "execution_count": 52,
   "id": "77d7c3de",
   "metadata": {},
   "outputs": [
    {
     "data": {
      "text/plain": [
       "['Geeks-for-geeks']"
      ]
     },
     "execution_count": 52,
     "metadata": {},
     "output_type": "execute_result"
    }
   ],
   "source": [
    "re.findall('[\\w]+-[\\w]+-[\\w]+','Geeks-for-geeks')"
   ]
  },
  {
   "cell_type": "markdown",
   "id": "33ec08ad",
   "metadata": {},
   "source": [
    "#### phn num matching"
   ]
  },
  {
   "cell_type": "code",
   "execution_count": 53,
   "id": "a7cbec38",
   "metadata": {},
   "outputs": [
    {
     "data": {
      "text/plain": [
       "['63-2345-9876']"
      ]
     },
     "execution_count": 53,
     "metadata": {},
     "output_type": "execute_result"
    }
   ],
   "source": [
    "re.findall('[\\d]+-[\\d]+-[\\d]+','63-2345-9876')"
   ]
  },
  {
   "cell_type": "code",
   "execution_count": 54,
   "id": "aca02154",
   "metadata": {},
   "outputs": [
    {
     "data": {
      "text/plain": [
       "\"['6323459876']\""
      ]
     },
     "execution_count": 54,
     "metadata": {},
     "output_type": "execute_result"
    }
   ],
   "source": [
    "str(re.findall('[\\d]+-[\\d]+-[\\d]+','63-2345-9876')).replace('-','')"
   ]
  },
  {
   "cell_type": "markdown",
   "id": "779caf48",
   "metadata": {},
   "source": [
    "### Email pattern matching"
   ]
  },
  {
   "cell_type": "code",
   "execution_count": 58,
   "id": "93320306",
   "metadata": {},
   "outputs": [
    {
     "data": {
      "text/plain": [
       "['Ram1@gmail.com']"
      ]
     },
     "execution_count": 58,
     "metadata": {},
     "output_type": "execute_result"
    }
   ],
   "source": [
    "re.findall('[A-Za-z0-9]+@[\\w]+.[\\w]+','Ram1@gmail.com')"
   ]
  },
  {
   "cell_type": "markdown",
   "id": "9acf444b",
   "metadata": {},
   "source": [
    "#### email with specific Domain"
   ]
  },
  {
   "cell_type": "code",
   "execution_count": 60,
   "id": "a0893810",
   "metadata": {},
   "outputs": [
    {
     "data": {
      "text/plain": [
       "[('gmail', 'com')]"
      ]
     },
     "execution_count": 60,
     "metadata": {},
     "output_type": "execute_result"
    }
   ],
   "source": [
    "re.findall('[A-Za-z0-9]+@(gmail).(com)$','Ram1@gmail.com')"
   ]
  },
  {
   "cell_type": "markdown",
   "id": "9a9b162d",
   "metadata": {},
   "source": [
    "#### checking for multiple Domains"
   ]
  },
  {
   "cell_type": "code",
   "execution_count": null,
   "id": "93d9b5fb",
   "metadata": {},
   "outputs": [],
   "source": [
    "re.findall('[A-Za-z0-9]+@[\\w].(com)','Ram1@gmail.com')"
   ]
  },
  {
   "cell_type": "markdown",
   "id": "01242153",
   "metadata": {},
   "source": [
    "### Words Finding"
   ]
  },
  {
   "cell_type": "code",
   "execution_count": 2,
   "id": "7f7a13fc",
   "metadata": {},
   "outputs": [],
   "source": [
    "txt='AI is having capability to revolutionize all the industries'\n",
    "word='the'"
   ]
  },
  {
   "cell_type": "code",
   "execution_count": 3,
   "id": "99b1d46f",
   "metadata": {},
   "outputs": [
    {
     "name": "stdout",
     "output_type": "stream",
     "text": [
      "the\n"
     ]
    }
   ],
   "source": [
    "for i in range(len(txt)):\n",
    "    if(txt[i:i+len(word)].lower())==word.lower():\n",
    "        print(txt[i:i+len(word)])"
   ]
  },
  {
   "cell_type": "code",
   "execution_count": 4,
   "id": "eb6022e2",
   "metadata": {},
   "outputs": [],
   "source": [
    "mails=['ashish@gmail.com','abc@gamil.org.in','ram@vishnu.edu.in']"
   ]
  },
  {
   "cell_type": "code",
   "execution_count": 6,
   "id": "5b91a5fa",
   "metadata": {},
   "outputs": [],
   "source": [
    "user_id=[]\n",
    "host_name=[]\n",
    "domain_name=[]\n",
    "for mail in mails:\n",
    "    user_id.append(mail.split('@')[0])\n",
    "    host_name.append(mail.split('@')[1].split('.')[0])\n",
    "    domain_name.append(''.join(mail.split('@')[1].split('.')[1:]))"
   ]
  },
  {
   "cell_type": "code",
   "execution_count": 7,
   "id": "d3870cf8",
   "metadata": {},
   "outputs": [
    {
     "data": {
      "text/plain": [
       "['ashish', 'abc', 'ram']"
      ]
     },
     "execution_count": 7,
     "metadata": {},
     "output_type": "execute_result"
    }
   ],
   "source": [
    "user_id"
   ]
  },
  {
   "cell_type": "code",
   "execution_count": 8,
   "id": "595ca1d2",
   "metadata": {},
   "outputs": [
    {
     "data": {
      "text/plain": [
       "['gmail', 'gamil', 'vishnu']"
      ]
     },
     "execution_count": 8,
     "metadata": {},
     "output_type": "execute_result"
    }
   ],
   "source": [
    "host_name"
   ]
  },
  {
   "cell_type": "code",
   "execution_count": 9,
   "id": "c8a58485",
   "metadata": {},
   "outputs": [
    {
     "data": {
      "text/plain": [
       "['com', 'orgin', 'eduin']"
      ]
     },
     "execution_count": 9,
     "metadata": {},
     "output_type": "execute_result"
    }
   ],
   "source": [
    "domain_name"
   ]
  },
  {
   "cell_type": "code",
   "execution_count": null,
   "id": "56540981",
   "metadata": {},
   "outputs": [],
   "source": []
  }
 ],
 "metadata": {
  "kernelspec": {
   "display_name": "Python 3 (ipykernel)",
   "language": "python",
   "name": "python3"
  },
  "language_info": {
   "codemirror_mode": {
    "name": "ipython",
    "version": 3
   },
   "file_extension": ".py",
   "mimetype": "text/x-python",
   "name": "python",
   "nbconvert_exporter": "python",
   "pygments_lexer": "ipython3",
   "version": "3.11.5"
  }
 },
 "nbformat": 4,
 "nbformat_minor": 5
}
