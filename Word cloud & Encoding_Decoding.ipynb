{
 "cells": [
  {
   "cell_type": "markdown",
   "id": "87691e85",
   "metadata": {},
   "source": [
    "### Word cloud"
   ]
  },
  {
   "cell_type": "code",
   "execution_count": 64,
   "id": "95c47c42",
   "metadata": {},
   "outputs": [],
   "source": [
    "txt='''Cricket is a bat-and-ball game that is played between two teams of eleven players on a field at the centre of which is a 22-yard (20-metre) pitch with a wicket at each end, each comprising two bails balanced on three stumps. Two players from the batting team (the striker and nonstriker) stand in front of either wicket, with one player from the fielding team (the bowler) bowling the ball towards the striker's wicket from the opposite end of the pitch. The striker's goal is to hit the bowled ball and then switch places with the nonstriker, with the batting team scoring one run for each exchange. Runs are also scored when the ball reaches or crosses the boundary of the field or when the ball is bowled illegally.'''"
   ]
  },
  {
   "cell_type": "code",
   "execution_count": 65,
   "id": "a256a1a2",
   "metadata": {},
   "outputs": [],
   "source": [
    "from nltk.tokenize import word_tokenize,sent_tokenize\n",
    "from nltk.corpus import stopwords"
   ]
  },
  {
   "cell_type": "code",
   "execution_count": 66,
   "id": "1c115203",
   "metadata": {},
   "outputs": [
    {
     "name": "stdout",
     "output_type": "stream",
     "text": [
      "['Cricket', 'bat-and-ball', 'game', 'played', 'two', 'teams', 'eleven', 'players', 'field', 'centre', '22-yard', '20-metre', 'pitch', 'wicket', 'end', 'comprising', 'two', 'bails', 'balanced', 'three', 'stumps', 'Two', 'players', 'batting', 'team', 'striker', 'nonstriker', 'stand', 'front', 'either', 'wicket', 'one', 'player', 'fielding', 'team', 'bowler', 'bowling', 'ball', 'towards', 'striker', \"'s\", 'wicket', 'opposite', 'end', 'pitch', 'striker', \"'s\", 'goal', 'hit', 'bowled', 'ball', 'switch', 'places', 'nonstriker', 'batting', 'team', 'scoring', 'one', 'run', 'exchange', 'Runs', 'also', 'scored', 'ball', 'reaches', 'crosses', 'boundary', 'field', 'ball', 'bowled', 'illegally']\n"
     ]
    }
   ],
   "source": [
    "txt=word_tokenize(txt)\n",
    "words=[]\n",
    "for wrd in txt:\n",
    "    if (wrd.lower() not in stopwords.words('english') and len(wrd)>=2):\n",
    "        words.append(wrd)\n",
    "print(words)"
   ]
  },
  {
   "cell_type": "markdown",
   "id": "87c49a47",
   "metadata": {},
   "source": [
    "### Assigning numerics to words or Encoding"
   ]
  },
  {
   "cell_type": "code",
   "execution_count": 67,
   "id": "7834c653",
   "metadata": {},
   "outputs": [
    {
     "name": "stdout",
     "output_type": "stream",
     "text": [
      "{'Cricket': 1, 'bat-and-ball': 2, 'game': 3, 'played': 4, 'two': 17, 'teams': 6, 'eleven': 7, 'players': 23, 'field': 68, 'centre': 10, '22-yard': 11, '20-metre': 12, 'pitch': 45, 'wicket': 42, 'end': 44, 'comprising': 16, 'bails': 18, 'balanced': 19, 'three': 20, 'stumps': 21, 'Two': 22, 'batting': 55, 'team': 56, 'striker': 46, 'nonstriker': 54, 'stand': 28, 'front': 29, 'either': 30, 'one': 58, 'player': 33, 'fielding': 34, 'bowler': 36, 'bowling': 37, 'ball': 69, 'towards': 39, \"'s\": 47, 'opposite': 43, 'goal': 48, 'hit': 49, 'bowled': 70, 'switch': 52, 'places': 53, 'scoring': 57, 'run': 59, 'exchange': 60, 'Runs': 61, 'also': 62, 'scored': 63, 'reaches': 65, 'crosses': 66, 'boundary': 67, 'illegally': 71}\n"
     ]
    }
   ],
   "source": [
    "word_to_num={}\n",
    "num=1\n",
    "for word in words:\n",
    "    word_to_num[word]=num\n",
    "    num+=1\n",
    "print(word_to_num)"
   ]
  },
  {
   "cell_type": "markdown",
   "id": "cf4fe6d9",
   "metadata": {},
   "source": [
    "### Text encoding"
   ]
  },
  {
   "cell_type": "code",
   "execution_count": 68,
   "id": "c4543295",
   "metadata": {},
   "outputs": [],
   "source": [
    "corpus='''India, officially the Republic of India (Hindi: Bhārat Gaṇarājya),[25] is a country in South Asia. It is the seventh-largest country by area, the second-most populous country, and the most populous democracy in the world. Bounded by the Indian Ocean on the south, the Arabian Sea on the southwest, and the Bay of Bengal on the southeast, it shares land borders with Pakistan to the west;[f] China, Nepal, and Bhutan to the north; and Bangladesh and Myanmar to the east. In the Indian Ocean, India is in the vicinity of Sri Lanka and the Maldives; its Andaman and Nicobar Islands share a maritime border with Thailand, Myanmar, and Indonesia.'''"
   ]
  },
  {
   "cell_type": "code",
   "execution_count": 69,
   "id": "1cf122e2",
   "metadata": {},
   "outputs": [],
   "source": [
    "corpus = corpus.replace(\"[25]\" , \"\")    \n",
    "corpus = corpus.replace(\"[f]\" , \"\")   \n",
    "corpus = corpus.replace(\")\" , \"\")"
   ]
  },
  {
   "cell_type": "code",
   "execution_count": 86,
   "id": "7c60eb18",
   "metadata": {},
   "outputs": [
    {
     "name": "stdout",
     "output_type": "stream",
     "text": [
      "['india', 'officially', 'republic', 'india', 'hindi', 'bhārat', 'gaṇarājya', 'country', 'south', 'asia', 'seventh-largest', 'country', 'area', 'second-most', 'populous', 'country', 'populous', 'democracy', 'world', 'bounded', 'indian', 'ocean', 'south', 'arabian', 'sea', 'southwest', 'bay', 'bengal', 'southeast', 'shares', 'land', 'borders', 'pakistan', 'west', 'china', 'nepal', 'bhutan', 'north', 'bangladesh', 'myanmar', 'east', 'indian', 'ocean', 'india', 'vicinity', 'sri', 'lanka', 'maldives', 'andaman', 'nicobar', 'islands', 'share', 'maritime', 'border', 'thailand', 'myanmar', 'indonesia']\n"
     ]
    }
   ],
   "source": [
    "words_list=[]\n",
    "for wrd in word_tokenize(corpus):\n",
    "    if (wrd.lower() not in stopwords.words('english')) and (len(wrd)>=2):\n",
    "        words_list.append(wrd.lower())\n",
    "print(words_list)\n"
   ]
  },
  {
   "cell_type": "code",
   "execution_count": null,
   "id": "d841bbe2",
   "metadata": {},
   "outputs": [],
   "source": []
  }
 ],
 "metadata": {
  "kernelspec": {
   "display_name": "Python 3 (ipykernel)",
   "language": "python",
   "name": "python3"
  },
  "language_info": {
   "codemirror_mode": {
    "name": "ipython",
    "version": 3
   },
   "file_extension": ".py",
   "mimetype": "text/x-python",
   "name": "python",
   "nbconvert_exporter": "python",
   "pygments_lexer": "ipython3",
   "version": "3.11.5"
  }
 },
 "nbformat": 4,
 "nbformat_minor": 5
}
